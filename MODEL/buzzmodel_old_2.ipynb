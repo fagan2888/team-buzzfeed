{
 "cells": [
  {
   "cell_type": "code",
   "execution_count": 25,
   "metadata": {
    "collapsed": true
   },
   "outputs": [],
   "source": [
    "import os\n",
    "import json\n",
    "import time\n",
    "import pickle\n",
    "import requests\n",
    "import math\n",
    "\n",
    "\n",
    "import numpy as np\n",
    "import pandas as pd\n",
    "import matplotlib.pyplot as plt\n",
    "import random"
   ]
  },
  {
   "cell_type": "code",
   "execution_count": 120,
   "metadata": {
    "collapsed": false
   },
   "outputs": [],
   "source": [
    "df = pd.DataFrame()\n",
    "df = pd.read_csv('may_june_july.csv', delimiter=\"|\")\n",
    "#ab = xy[:10]\n",
    "#df = ab.copy()\n",
    "\n"
   ]
  },
  {
   "cell_type": "code",
   "execution_count": 121,
   "metadata": {
    "collapsed": false
   },
   "outputs": [],
   "source": [
    "# Combine all text\n",
    "df['AllText'] = \"\"\n",
    "df['primary_kw'].fillna(\" \", inplace=True)\n",
    "df['tags'].fillna(\" \", inplace=True)\n",
    "for i, row in df.iterrows():\n",
    "    cv = df.iloc[i,5]+\" \"+df.iloc[i,6]+\" \"+df.iloc[i,7]+\" \"+df.iloc[i,8]+\" \"+df.iloc[i,9]+\" \"+df.iloc[i,10]\n",
    "    df.set_value(i,'AllText',cv)\n"
   ]
  },
  {
   "cell_type": "code",
   "execution_count": 122,
   "metadata": {
    "collapsed": false
   },
   "outputs": [],
   "source": [
    "df['Log'] = df['freq']*df['impressions']/1000\n",
    "for i, row in df.iterrows():\n",
    "    cv = math.log(df.iloc[i,12],2)\n",
    "    df.set_value(i,'Log',cv)"
   ]
  },
  {
   "cell_type": "code",
   "execution_count": 123,
   "metadata": {
    "collapsed": false
   },
   "outputs": [
    {
     "name": "stdout",
     "output_type": "stream",
     "text": [
      "9.97900229397\n",
      "3.21629982395\n"
     ]
    },
    {
     "data": {
      "image/png": "[encoded data removed]",
      "text/plain": [
       "<matplotlib.figure.Figure at 0x10f682310>"
      ]
     },
     "metadata": {},
     "output_type": "display_data"
    }
   ],
   "source": [
    "data_mean = df[\"Log\"].mean()\n",
    "print data_mean\n",
    "\n",
    "data_std = df[\"Log\"].std()\n",
    "print data_std\n",
    "\n",
    "%matplotlib inline\n",
    "plt.hist(df[\"Log\"])\n",
    "plt.show()"
   ]
  },
  {
   "cell_type": "code",
   "execution_count": 124,
   "metadata": {
    "collapsed": false
   },
   "outputs": [
    {
     "data": {
      "text/plain": [
       "(14297, 13)"
      ]
     },
     "execution_count": 124,
     "metadata": {},
     "output_type": "execute_result"
    }
   ],
   "source": [
    "df.shape"
   ]
  },
  {
   "cell_type": "code",
   "execution_count": 125,
   "metadata": {
    "collapsed": false
   },
   "outputs": [],
   "source": [
    "# Virality defined as -1 sigma from mean\n",
    "df['viral'] = np.where(df['Log']<data_mean-data_std, 'notviral', 'viral')\n",
    "df['viral_num'] = df.viral.map({'notviral':0, 'viral':1})\n",
    "#df.head()"
   ]
  },
  {
   "cell_type": "code",
   "execution_count": 126,
   "metadata": {
    "collapsed": false
   },
   "outputs": [],
   "source": [
    "#df.tail()"
   ]
  },
  {
   "cell_type": "code",
   "execution_count": 127,
   "metadata": {
    "collapsed": false
   },
   "outputs": [
    {
     "data": {
      "text/plain": [
       "(14297, 15)"
      ]
     },
     "execution_count": 127,
     "metadata": {},
     "output_type": "execute_result"
    }
   ],
   "source": [
    "df.shape"
   ]
  },
  {
   "cell_type": "code",
   "execution_count": 128,
   "metadata": {
    "collapsed": false
   },
   "outputs": [
    {
     "data": {
      "text/plain": [
       "viral       11862\n",
       "notviral     2435\n",
       "Name: viral, dtype: int64"
      ]
     },
     "execution_count": 128,
     "metadata": {},
     "output_type": "execute_result"
    }
   ],
   "source": [
    "df.viral.value_counts()"
   ]
  },
  {
   "cell_type": "code",
   "execution_count": 129,
   "metadata": {
    "collapsed": false
   },
   "outputs": [
    {
     "name": "stdout",
     "output_type": "stream",
     "text": [
      "(14297,)\n",
      "(14297,)\n"
     ]
    }
   ],
   "source": [
    "X = df.AllText\n",
    "y = df.viral_num\n",
    "print(X.shape)\n",
    "print(y.shape)"
   ]
  },
  {
   "cell_type": "code",
   "execution_count": 130,
   "metadata": {
    "collapsed": false
   },
   "outputs": [
    {
     "data": {
      "text/plain": [
       "0    Giant man with tiny dog alert! Celebrity The M...\n",
       "1    FYI: Ice cream sandwiches &gt; all other sandw...\n",
       "2    \"My mama always said you can tell a lot about ...\n",
       "3    Let's see if you're a true cheese whiz. Food C...\n",
       "4    The EPA just released first-time guidelines on...\n",
       "Name: AllText, dtype: object"
      ]
     },
     "execution_count": 130,
     "metadata": {},
     "output_type": "execute_result"
    }
   ],
   "source": [
    "X.head()"
   ]
  },
  {
   "cell_type": "code",
   "execution_count": 131,
   "metadata": {
    "collapsed": false
   },
   "outputs": [
    {
     "data": {
      "text/plain": [
       "0    0\n",
       "1    0\n",
       "2    0\n",
       "3    0\n",
       "4    0\n",
       "Name: viral_num, dtype: int64"
      ]
     },
     "execution_count": 131,
     "metadata": {},
     "output_type": "execute_result"
    }
   ],
   "source": [
    "y.head()"
   ]
  },
  {
   "cell_type": "code",
   "execution_count": 132,
   "metadata": {
    "collapsed": false
   },
   "outputs": [
    {
     "name": "stdout",
     "output_type": "stream",
     "text": [
      "(10722,)\n",
      "(3575,)\n",
      "(10722,)\n",
      "(3575,)\n"
     ]
    }
   ],
   "source": [
    "# split X and y into training and testing sets\n",
    "from sklearn.cross_validation import train_test_split\n",
    "X_train, X_test, y_train, y_test = train_test_split(X, y, random_state=1)\n",
    "print(X_train.shape)\n",
    "print(X_test.shape)\n",
    "print(y_train.shape)\n",
    "print(y_test.shape)"
   ]
  },
  {
   "cell_type": "code",
   "execution_count": 143,
   "metadata": {
    "collapsed": false
   },
   "outputs": [],
   "source": [
    "# instantiate the vectorizer\n",
    "# Test Following scenarions:  max_df=0.5\n",
    "from sklearn.feature_extraction.text import CountVectorizer\n",
    "vect = CountVectorizer(max_df=0.5)\n"
   ]
  },
  {
   "cell_type": "code",
   "execution_count": 144,
   "metadata": {
    "collapsed": false
   },
   "outputs": [],
   "source": [
    "#X_train"
   ]
  },
  {
   "cell_type": "code",
   "execution_count": 145,
   "metadata": {
    "collapsed": false
   },
   "outputs": [
    {
     "data": {
      "text/plain": [
       "CountVectorizer(analyzer=u'word', binary=False, decode_error=u'strict',\n",
       "        dtype=<type 'numpy.int64'>, encoding=u'utf-8', input=u'content',\n",
       "        lowercase=True, max_df=0.5, max_features=None, min_df=1,\n",
       "        ngram_range=(1, 1), preprocessor=None, stop_words=None,\n",
       "        strip_accents=None, token_pattern=u'(?u)\\\\b\\\\w\\\\w+\\\\b',\n",
       "        tokenizer=None, vocabulary=None)"
      ]
     },
     "execution_count": 145,
     "metadata": {},
     "output_type": "execute_result"
    }
   ],
   "source": [
    "vect"
   ]
  },
  {
   "cell_type": "code",
   "execution_count": 146,
   "metadata": {
    "collapsed": false
   },
   "outputs": [],
   "source": [
    "# learn training data vocabulary, then use it to create a document-term matrix\n",
    "# FOLLOWING CAN BE DONE IN SINGLE STEP:  X_train_dtm = vect.fit_transform(X_train)\n",
    "vect.fit(X_train)\n",
    "X_train_dtm = vect.transform(X_train)"
   ]
  },
  {
   "cell_type": "code",
   "execution_count": 147,
   "metadata": {
    "collapsed": false
   },
   "outputs": [
    {
     "data": {
      "text/plain": [
       "<10722x15808 sparse matrix of type '<type 'numpy.int64'>'\n",
       "\twith 287918 stored elements in Compressed Sparse Row format>"
      ]
     },
     "execution_count": 147,
     "metadata": {},
     "output_type": "execute_result"
    }
   ],
   "source": [
    "X_train_dtm"
   ]
  },
  {
   "cell_type": "code",
   "execution_count": 148,
   "metadata": {
    "collapsed": false
   },
   "outputs": [
    {
     "data": {
      "text/plain": [
       "<3575x15808 sparse matrix of type '<type 'numpy.int64'>'\n",
       "\twith 94428 stored elements in Compressed Sparse Row format>"
      ]
     },
     "execution_count": 148,
     "metadata": {},
     "output_type": "execute_result"
    }
   ],
   "source": [
    "# transform testing data (using fitted vocabulary) into a document-term matrix\n",
    "X_test_dtm = vect.transform(X_test)\n",
    "X_test_dtm"
   ]
  },
  {
   "cell_type": "code",
   "execution_count": 149,
   "metadata": {
    "collapsed": true
   },
   "outputs": [],
   "source": [
    "# import and instantiate a Multinomial Naive Bayes model\n",
    "from sklearn.naive_bayes import MultinomialNB\n",
    "nb = MultinomialNB()"
   ]
  },
  {
   "cell_type": "code",
   "execution_count": 150,
   "metadata": {
    "collapsed": false
   },
   "outputs": [
    {
     "name": "stdout",
     "output_type": "stream",
     "text": [
      "CPU times: user 9.81 ms, sys: 2.27 ms, total: 12.1 ms\n",
      "Wall time: 10.2 ms\n"
     ]
    },
    {
     "data": {
      "text/plain": [
       "MultinomialNB(alpha=1.0, class_prior=None, fit_prior=True)"
      ]
     },
     "execution_count": 150,
     "metadata": {},
     "output_type": "execute_result"
    }
   ],
   "source": [
    "# train the model using X_train_dtm (timing it with an IPython \"magic command\")\n",
    "%time nb.fit(X_train_dtm, y_train)"
   ]
  },
  {
   "cell_type": "code",
   "execution_count": 151,
   "metadata": {
    "collapsed": true
   },
   "outputs": [],
   "source": [
    "# make class predictions for X_test_dtm\n",
    "y_pred_class = nb.predict(X_test_dtm)"
   ]
  },
  {
   "cell_type": "code",
   "execution_count": 152,
   "metadata": {
    "collapsed": false
   },
   "outputs": [
    {
     "data": {
      "text/plain": [
       "0.81146853146853148"
      ]
     },
     "execution_count": 152,
     "metadata": {},
     "output_type": "execute_result"
    }
   ],
   "source": [
    "# calculate accuracy of class predictions\n",
    "from sklearn import metrics\n",
    "metrics.accuracy_score(y_test, y_pred_class)"
   ]
  },
  {
   "cell_type": "code",
   "execution_count": 153,
   "metadata": {
    "collapsed": false
   },
   "outputs": [
    {
     "data": {
      "text/plain": [
       "array([[ 217,  406],\n",
       "       [ 268, 2684]])"
      ]
     },
     "execution_count": 153,
     "metadata": {},
     "output_type": "execute_result"
    }
   ],
   "source": [
    "# print the confusion matrix\n",
    "metrics.confusion_matrix(y_test, y_pred_class)"
   ]
  },
  {
   "cell_type": "code",
   "execution_count": 94,
   "metadata": {
    "collapsed": false
   },
   "outputs": [
    {
     "data": {
      "text/plain": [
       "2356     So much fierce, so little time. Music Here's W...\n",
       "4046     Robert Czegely has been accused of \"gross misc...\n",
       "3116     Put your JT fandom to the test. Music Are Thes...\n",
       "1790     Do you read bad drawings? Animals Can You Iden...\n",
       "1094     Hold the door. Culture 53 Thoughts I Had Watch...\n",
       "3807     Three of the former Libyan dictator s top offi...\n",
       "153      Seven police officers and two civilians were h...\n",
       "2410     Tiny home, big clean. DIY 28 Clever Ways To De...\n",
       "2813     Today's characters: the Malfoys. UK Here Are T...\n",
       "4781     <b>These big rocks in the desert will blow you...\n",
       "3312     For when you want a little bit of ~everything....\n",
       "10363    Yes, I want my house to smell like fairy bread...\n",
       "3895     \"Next week will see the debut of Hodor's cousi...\n",
       "4290     Some Bernie-or-Busters protested Clinton's spe...\n",
       "1401     Underrated is an UNDERstatement. Rewind It's T...\n",
       "11347    Put all those geography classes to the test. I...\n",
       "1578     <b>Picture your favorite invention.</b> Now pi...\n",
       "994      <b>I got 99 problems, and Twitter spoilers are...\n",
       "897      Spreadin' barks and smiles! Animals 19 Excited...\n",
       "1156     Milk and cereal are a union that must not be b...\n",
       "2515     <b>From Fred Lyon's <a rel=\"nofollow\" href=\"ht...\n",
       "2230     Talk to the hand 'cause the face ain't listeni...\n",
       "4177     <b>Because the people deserve to know!</b> Com...\n",
       "3832     \"Do you know how many basic bitches would kill...\n",
       "2364     ALL THE EMOTIONS! Tasty Here's What Happens Wh...\n",
       "1890     \"Thank you Nintendo!!!\" UK Pok mon Go Is Helpi...\n",
       "335      The joke is that it's not. Celebrity Chrissy T...\n",
       "793      The ugly babies know. Culture What Does Your C...\n",
       "6420     Life? Shout? Bliss? Khode? I don't even know a...\n",
       "1217     \"Got this for son in law\" Books 21 Negative  H...\n",
       "                               ...                        \n",
       "159      Trust your subconscious! It knows what's up. C...\n",
       "1041     Contains NSFW images of some of Scotland's jui...\n",
       "1989     \"NO, NOT DRAGONS. FUCK THOSE DRAGONS. FOCUS!!!...\n",
       "1711     And no, this is not just about tofu. Food 17 U...\n",
       "1710     We'd use them everyday, TBH. Books If Snapchat...\n",
       "354      One of these will <i>really</i> satisfy your s...\n",
       "5792     See if you can make it through the night as on...\n",
       "2977     So much drama. Australia \"Real Housewives Of B...\n",
       "4165     Woodsprites are taking over underground. Austr...\n",
       "5385     \"Directions: Pour into an oiled fish mold and ...\n",
       "5338     For when you want a little bit of ~everything....\n",
       "3796     When you start having secret meetings in the t...\n",
       "5930     \"Arrogant white privileged fools\" Australia A ...\n",
       "2096     Do you like your sausages in a dog or a roll? ...\n",
       "535      Oh, tartar sauce! Rewind 19 Faces From \"Sponge...\n",
       "2490     Scream if you know the answer. UK Only A Real ...\n",
       "2646     Man cannot live on trail mix alone. Food 29 Ca...\n",
       "6582     Whoever said diamonds needed polish was wrong....\n",
       "597      Girls' stories aren't just for girls. UK 34 Yo...\n",
       "5151     Mmmm, the crunch. Tasty Buttermilk-Fried Chick...\n",
       "2477     I used to compare myself to the models in maga...\n",
       "3027     Who stands out the most in a crowd? Celebrity ...\n",
       "4485     A bang for your buck. UK How Much Do These 9 S...\n",
       "503      *Immediately opens a cat hotel.* UK 11 Dream J...\n",
       "1687     A tale of chaos and scandal at Day One of the ...\n",
       "1941     This can only mean good things for everyone's ...\n",
       "7857     <b>Warning: partial nudity ahead!</b> Acclaime...\n",
       "830      All men must die. But in what order? UK Can Yo...\n",
       "5776     Screw football, this guy should go to Hogwarts...\n",
       "2922     Who's a good customer service representative? ...\n",
       "Name: AllText, dtype: object"
      ]
     },
     "execution_count": 94,
     "metadata": {},
     "output_type": "execute_result"
    }
   ],
   "source": [
    "# print message text for the false positives (non-viral incorrectly classified as viral)\n",
    "X_test[y_test < y_pred_class]"
   ]
  },
  {
   "cell_type": "code",
   "execution_count": 95,
   "metadata": {
    "collapsed": false
   },
   "outputs": [
    {
     "data": {
      "text/plain": [
       "11141    Mmmmmmmmmmmmmmmm. India 16 Extremely Satisfyin...\n",
       "12571    It wasn't. India 17 Things That Will Make Ever...\n",
       "5558     \"You're worthy of the last French fry in the b...\n",
       "10655    Worse still, literally no one is surprised. In...\n",
       "14152    In 2016, it takes staggering ignorance to thin...\n",
       "2674     Your relationship with the word \"home\" becomes...\n",
       "13227    \"I am no longer okay with just being a sidekic...\n",
       "11674    The school has thousands of students, no full-...\n",
       "11436    \"I have always said, I will work after marriag...\n",
       "9034     TL;DR Poo is done with your shit. India Kareen...\n",
       "5811     A hot new type of food stack. Food People On I...\n",
       "1175     Give those old duds new life. DIY 18 No-Sew Wa...\n",
       "3153     The pound may be weak, but the memes are stron...\n",
       "6004     She was a better Trump than Trump. USNews Mery...\n",
       "5640     Vote Leave, take back the status quo? UKNews F...\n",
       "8943     \"She just wakes up like that.\" India Aishwarya...\n",
       "11646    Pappis for puppies. India 9 Pictures Of Doggie...\n",
       "14051    Kya re mamu! Sab changa? Yeh quiz lega kya bhe...\n",
       "8708     The golden age of TV everywhere, tbh. Canada 1...\n",
       "12271    That three-day stretch in March when it seems ...\n",
       "8918     Ded. India These Photos Of Katrina Kaif In A R...\n",
       "5411     The Los Angeles County Sheriff's Department sa...\n",
       "6863     Including face masks, lingerie, dresses, and s...\n",
       "12611    #Blackdegreesmatter Culture 38 Photos Of Black...\n",
       "8274     Meet Senator-elect Pauline Hanson. World Austr...\n",
       "3400     On Wednesday, the hashtag <a href=\"https://twi...\n",
       "9502     Renuka Chowdhury is a former union minister of...\n",
       "10579    Stop restoring my faith in arranged marriages,...\n",
       "9864     Enrol early. Update often. AUNews Stop What Yo...\n",
       "8157     Baroness Smith, Labour MPs, and even some Tori...\n",
       "                               ...                        \n",
       "13720    \"Kids love singing apes.\" AUNews Adam Goodes A...\n",
       "4398     Warning: You'll be hearing about this theory f...\n",
       "5518     \"Tanong mo sa mommy mo.\" Culture 18 Sentences ...\n",
       "7217     Tradies. There's always tradies. Australia 25 ...\n",
       "1885     Gesundheit, doggies. Animals 11 Dogs Caught Mi...\n",
       "9284     <i>The New European</i>, published 8 July, is ...\n",
       "13273    You're totally doing this. Tasty Try Out Your ...\n",
       "10862    Creamy PB? Check. Decadent brownie? Check. Cri...\n",
       "10519    Do these policies belong to Labor, the Greens,...\n",
       "4331     Almost as soothing as eating it. ALMOST. Food ...\n",
       "2625     Michael Sandford, a 19-year-old from Dorking i...\n",
       "12879    Could you smash 833 cans a year? Well apparent...\n",
       "4614     It s not all bad. UK 16 Beauty Brands That Are...\n",
       "12130    I'm taking the rest of the day off. India Rahu...\n",
       "14011    \"Fuckin eh it's bout to go downnnn.\" Canada We...\n",
       "10436    <b>Who says art has to mean anything, or requi...\n",
       "10625    \"I'm bringing them home in a box\". AUNews Indi...\n",
       "11239    \"G'day mates!\" Or, nah. Australia Australian S...\n",
       "6306     Aliens DO exist, according to the former Blink...\n",
       "8814     \"Freedom of speech di maa di.\" India The Censo...\n",
       "11983    Let the stars assign you a soulmate. India Whi...\n",
       "406      *Mixes them all together* Food 21 Bartenders S...\n",
       "9317     The PERFECT outfit... In theory. India \"Dhoti ...\n",
       "9454     He's hiding somewhere in these pictures... but...\n",
       "3358     Will there be a general election? Can there be...\n",
       "9579     \"I hope we'll be having those exchanges over t...\n",
       "5184     \"Oot and aboot.\" Canada 21 Things You'll Never...\n",
       "6454     <b>Temper your jealousy, teachers.</b> One can...\n",
       "177      Slay, mama. Style 9 Stunning Eid Outfits That'...\n",
       "12021    <b>Wear your lit love on your sleeve.</b> Book...\n",
       "Name: AllText, dtype: object"
      ]
     },
     "execution_count": 95,
     "metadata": {},
     "output_type": "execute_result"
    }
   ],
   "source": [
    "# print message text for the false negatives (Viral incorrectly classified as non-viral)\n",
    "X_test[y_test > y_pred_class]"
   ]
  },
  {
   "cell_type": "code",
   "execution_count": 96,
   "metadata": {
    "collapsed": false
   },
   "outputs": [],
   "source": [
    "# example false negative\n",
    "#X_test[3]"
   ]
  },
  {
   "cell_type": "code",
   "execution_count": 97,
   "metadata": {
    "collapsed": false
   },
   "outputs": [
    {
     "data": {
      "text/plain": [
       "array([ 0.67990059,  0.99984685,  0.99999829, ...,  0.99999919,\n",
       "        0.99999972,  0.99629517])"
      ]
     },
     "execution_count": 97,
     "metadata": {},
     "output_type": "execute_result"
    }
   ],
   "source": [
    "# calculate predicted probabilities for X_test_dtm (poorly calibrated)\n",
    "y_pred_prob = nb.predict_proba(X_test_dtm)[:, 1]\n",
    "y_pred_prob"
   ]
  },
  {
   "cell_type": "code",
   "execution_count": 98,
   "metadata": {
    "collapsed": false
   },
   "outputs": [
    {
     "data": {
      "text/plain": [
       "0.73614156085381088"
      ]
     },
     "execution_count": 98,
     "metadata": {},
     "output_type": "execute_result"
    }
   ],
   "source": [
    "# calculate AUC\n",
    "metrics.roc_auc_score(y_test, y_pred_prob)"
   ]
  },
  {
   "cell_type": "code",
   "execution_count": 99,
   "metadata": {
    "collapsed": true
   },
   "outputs": [],
   "source": [
    "# import and instantiate a logistic regression model\n",
    "from sklearn.linear_model import LogisticRegression\n",
    "logreg = LogisticRegression()"
   ]
  },
  {
   "cell_type": "code",
   "execution_count": 100,
   "metadata": {
    "collapsed": false
   },
   "outputs": [
    {
     "name": "stdout",
     "output_type": "stream",
     "text": [
      "CPU times: user 658 ms, sys: 12 ms, total: 670 ms\n",
      "Wall time: 673 ms\n"
     ]
    },
    {
     "data": {
      "text/plain": [
       "LogisticRegression(C=1.0, class_weight=None, dual=False, fit_intercept=True,\n",
       "          intercept_scaling=1, max_iter=100, multi_class='ovr', n_jobs=1,\n",
       "          penalty='l2', random_state=None, solver='liblinear', tol=0.0001,\n",
       "          verbose=0, warm_start=False)"
      ]
     },
     "execution_count": 100,
     "metadata": {},
     "output_type": "execute_result"
    }
   ],
   "source": [
    "# train the model using X_train_dtm\n",
    "%time logreg.fit(X_train_dtm, y_train)"
   ]
  },
  {
   "cell_type": "code",
   "execution_count": 101,
   "metadata": {
    "collapsed": true
   },
   "outputs": [],
   "source": [
    "# make class predictions for X_test_dtm\n",
    "y_pred_class = logreg.predict(X_test_dtm)"
   ]
  },
  {
   "cell_type": "code",
   "execution_count": 102,
   "metadata": {
    "collapsed": false
   },
   "outputs": [
    {
     "data": {
      "text/plain": [
       "array([ 0.8093811 ,  0.97096945,  0.98082109, ...,  0.98028302,\n",
       "        0.99328703,  0.87609797])"
      ]
     },
     "execution_count": 102,
     "metadata": {},
     "output_type": "execute_result"
    }
   ],
   "source": [
    "# calculate predicted probabilities for X_test_dtm (well calibrated)\n",
    "y_pred_prob = logreg.predict_proba(X_test_dtm)[:, 1]\n",
    "y_pred_prob"
   ]
  },
  {
   "cell_type": "code",
   "execution_count": 103,
   "metadata": {
    "collapsed": false
   },
   "outputs": [
    {
     "data": {
      "text/plain": [
       "0.82237762237762235"
      ]
     },
     "execution_count": 103,
     "metadata": {},
     "output_type": "execute_result"
    }
   ],
   "source": [
    "# calculate accuracy\n",
    "metrics.accuracy_score(y_test, y_pred_class)"
   ]
  },
  {
   "cell_type": "code",
   "execution_count": 104,
   "metadata": {
    "collapsed": false
   },
   "outputs": [
    {
     "data": {
      "text/plain": [
       "0.72488276849060629"
      ]
     },
     "execution_count": 104,
     "metadata": {},
     "output_type": "execute_result"
    }
   ],
   "source": [
    "# calculate AUC\n",
    "metrics.roc_auc_score(y_test, y_pred_prob)"
   ]
  },
  {
   "cell_type": "code",
   "execution_count": 105,
   "metadata": {
    "collapsed": false
   },
   "outputs": [
    {
     "data": {
      "text/plain": [
       "15808"
      ]
     },
     "execution_count": 105,
     "metadata": {},
     "output_type": "execute_result"
    }
   ],
   "source": [
    "# store the vocabulary of X_train\n",
    "X_train_tokens = vect.get_feature_names()\n",
    "len(X_train_tokens)"
   ]
  },
  {
   "cell_type": "code",
   "execution_count": 106,
   "metadata": {
    "collapsed": false
   },
   "outputs": [
    {
     "name": "stdout",
     "output_type": "stream",
     "text": [
      "[u'00', u'000', u'007', u'00s', u'03', u'06', u'07', u'09', u'10', u'100', u'100000', u'100m', u'101', u'11', u'110', u'11th', u'12', u'125', u'129', u'13', u'14', u'140', u'143', u'15', u'150', u'1500', u'151', u'16', u'160', u'16_new_food', u'16th', u'17', u'172', u'177', u'1789', u'17th', u'18', u'182', u'18311', u'18th', u'19', u'1938922913', u'1950s', u'1955', u'1960s', u'1964', u'1966', u'1969', u'1970s', u'1972']\n"
     ]
    }
   ],
   "source": [
    "# examine the first 50 tokens\n",
    "print(X_train_tokens[0:50])"
   ]
  },
  {
   "cell_type": "code",
   "execution_count": 107,
   "metadata": {
    "collapsed": false
   },
   "outputs": [
    {
     "name": "stdout",
     "output_type": "stream",
     "text": [
      "[u'zack', u'zackary', u'zafar', u'zafn', u'zaful', u'zag', u'zakia', u'zambia', u'zanada', u'zara', u'zaveri', u'zayn', u'zbych', u'zealand', u'zebra', u'zelda', u'zemeckis', u'zen', u'zendaya', u'zero', u'zesty', u'zeus', u'zhang', u'zhao', u'zig', u'zika', u'zinger', u'zip', u'zit', u'ziva', u'zo', u'zodiac', u'zodiacquiz', u'zoe', u'zoey', u'zombies', u'zone', u'zones', u'zoo', u'zoodles', u'zooey', u'zookeeper', u'zoom', u'zootopia', u'zoren', u'zucchini', u'zuchinni', u'zuckerberg', u'zwan', u'zz']\n"
     ]
    }
   ],
   "source": [
    "# examine the last 50 tokens\n",
    "print(X_train_tokens[-50:])"
   ]
  },
  {
   "cell_type": "code",
   "execution_count": 108,
   "metadata": {
    "collapsed": false
   },
   "outputs": [
    {
     "data": {
      "text/plain": [
       "array([[  0.,   7.,   4., ...,   1.,   0.,   1.],\n",
       "       [  4.,  40.,   4., ...,   2.,   3.,   1.]])"
      ]
     },
     "execution_count": 108,
     "metadata": {},
     "output_type": "execute_result"
    }
   ],
   "source": [
    "# Naive Bayes counts the number of times each token appears in each class\n",
    "nb.feature_count_"
   ]
  },
  {
   "cell_type": "code",
   "execution_count": 109,
   "metadata": {
    "collapsed": false
   },
   "outputs": [
    {
     "data": {
      "text/plain": [
       "(2, 15808)"
      ]
     },
     "execution_count": 109,
     "metadata": {},
     "output_type": "execute_result"
    }
   ],
   "source": [
    "# rows represent classes, columns represent tokens\n",
    "nb.feature_count_.shape"
   ]
  },
  {
   "cell_type": "code",
   "execution_count": 110,
   "metadata": {
    "collapsed": false
   },
   "outputs": [
    {
     "data": {
      "text/plain": [
       "array([ 0.,  7.,  4., ...,  1.,  0.,  1.])"
      ]
     },
     "execution_count": 110,
     "metadata": {},
     "output_type": "execute_result"
    }
   ],
   "source": [
    "# number of times each token appears across all Non-viral Buzzes\n",
    "non_viral_token_count = nb.feature_count_[0, :]\n",
    "non_viral_token_count"
   ]
  },
  {
   "cell_type": "code",
   "execution_count": 111,
   "metadata": {
    "collapsed": false
   },
   "outputs": [
    {
     "data": {
      "text/plain": [
       "array([  4.,  40.,   4., ...,   2.,   3.,   1.])"
      ]
     },
     "execution_count": 111,
     "metadata": {},
     "output_type": "execute_result"
    }
   ],
   "source": [
    "# number of times each token appears across all Viral Buzzes\n",
    "viral_token_count = nb.feature_count_[1, :]\n",
    "viral_token_count"
   ]
  },
  {
   "cell_type": "code",
   "execution_count": 112,
   "metadata": {
    "collapsed": false
   },
   "outputs": [
    {
     "data": {
      "text/html": [
       "<div>\n",
       "<table border=\"1\" class=\"dataframe\">\n",
       "  <thead>\n",
       "    <tr style=\"text-align: right;\">\n",
       "      <th></th>\n",
       "      <th>non_viral</th>\n",
       "      <th>viral</th>\n",
       "    </tr>\n",
       "    <tr>\n",
       "      <th>token</th>\n",
       "      <th></th>\n",
       "      <th></th>\n",
       "    </tr>\n",
       "  </thead>\n",
       "  <tbody>\n",
       "    <tr>\n",
       "      <th>00</th>\n",
       "      <td>0.0</td>\n",
       "      <td>4.0</td>\n",
       "    </tr>\n",
       "    <tr>\n",
       "      <th>000</th>\n",
       "      <td>7.0</td>\n",
       "      <td>40.0</td>\n",
       "    </tr>\n",
       "    <tr>\n",
       "      <th>007</th>\n",
       "      <td>4.0</td>\n",
       "      <td>4.0</td>\n",
       "    </tr>\n",
       "    <tr>\n",
       "      <th>00s</th>\n",
       "      <td>18.0</td>\n",
       "      <td>216.0</td>\n",
       "    </tr>\n",
       "    <tr>\n",
       "      <th>03</th>\n",
       "      <td>0.0</td>\n",
       "      <td>3.0</td>\n",
       "    </tr>\n",
       "  </tbody>\n",
       "</table>\n",
       "</div>"
      ],
      "text/plain": [
       "       non_viral  viral\n",
       "token                  \n",
       "00           0.0    4.0\n",
       "000          7.0   40.0\n",
       "007          4.0    4.0\n",
       "00s         18.0  216.0\n",
       "03           0.0    3.0"
      ]
     },
     "execution_count": 112,
     "metadata": {},
     "output_type": "execute_result"
    }
   ],
   "source": [
    "# create a DataFrame of tokens with their separate non-viral and viral counts\n",
    "tokens = pd.DataFrame({'token':X_train_tokens, 'non_viral':non_viral_token_count, 'viral':viral_token_count}).set_index('token')\n",
    "tokens.head()"
   ]
  },
  {
   "cell_type": "code",
   "execution_count": 113,
   "metadata": {
    "collapsed": false
   },
   "outputs": [
    {
     "data": {
      "text/html": [
       "<div>\n",
       "<table border=\"1\" class=\"dataframe\">\n",
       "  <thead>\n",
       "    <tr style=\"text-align: right;\">\n",
       "      <th></th>\n",
       "      <th>non_viral</th>\n",
       "      <th>viral</th>\n",
       "    </tr>\n",
       "    <tr>\n",
       "      <th>token</th>\n",
       "      <th></th>\n",
       "      <th></th>\n",
       "    </tr>\n",
       "  </thead>\n",
       "  <tbody>\n",
       "    <tr>\n",
       "      <th>puff</th>\n",
       "      <td>0.0</td>\n",
       "      <td>10.0</td>\n",
       "    </tr>\n",
       "    <tr>\n",
       "      <th>canada</th>\n",
       "      <td>92.0</td>\n",
       "      <td>247.0</td>\n",
       "    </tr>\n",
       "    <tr>\n",
       "      <th>comtent</th>\n",
       "      <td>27.0</td>\n",
       "      <td>206.0</td>\n",
       "    </tr>\n",
       "    <tr>\n",
       "      <th>burnham</th>\n",
       "      <td>1.0</td>\n",
       "      <td>8.0</td>\n",
       "    </tr>\n",
       "    <tr>\n",
       "      <th>poops</th>\n",
       "      <td>2.0</td>\n",
       "      <td>1.0</td>\n",
       "    </tr>\n",
       "    <tr>\n",
       "      <th>surgery</th>\n",
       "      <td>5.0</td>\n",
       "      <td>14.0</td>\n",
       "    </tr>\n",
       "    <tr>\n",
       "      <th>crohns</th>\n",
       "      <td>0.0</td>\n",
       "      <td>2.0</td>\n",
       "    </tr>\n",
       "    <tr>\n",
       "      <th>strange</th>\n",
       "      <td>4.0</td>\n",
       "      <td>16.0</td>\n",
       "    </tr>\n",
       "    <tr>\n",
       "      <th>stray</th>\n",
       "      <td>1.0</td>\n",
       "      <td>1.0</td>\n",
       "    </tr>\n",
       "    <tr>\n",
       "      <th>commit</th>\n",
       "      <td>0.0</td>\n",
       "      <td>6.0</td>\n",
       "    </tr>\n",
       "    <tr>\n",
       "      <th>origin</th>\n",
       "      <td>1.0</td>\n",
       "      <td>2.0</td>\n",
       "    </tr>\n",
       "    <tr>\n",
       "      <th>rhyhorny</th>\n",
       "      <td>0.0</td>\n",
       "      <td>1.0</td>\n",
       "    </tr>\n",
       "    <tr>\n",
       "      <th>school</th>\n",
       "      <td>44.0</td>\n",
       "      <td>196.0</td>\n",
       "    </tr>\n",
       "    <tr>\n",
       "      <th>karate</th>\n",
       "      <td>0.0</td>\n",
       "      <td>2.0</td>\n",
       "    </tr>\n",
       "    <tr>\n",
       "      <th>praised</th>\n",
       "      <td>0.0</td>\n",
       "      <td>1.0</td>\n",
       "    </tr>\n",
       "    <tr>\n",
       "      <th>purely</th>\n",
       "      <td>1.0</td>\n",
       "      <td>5.0</td>\n",
       "    </tr>\n",
       "    <tr>\n",
       "      <th>razors</th>\n",
       "      <td>2.0</td>\n",
       "      <td>9.0</td>\n",
       "    </tr>\n",
       "    <tr>\n",
       "      <th>priest</th>\n",
       "      <td>2.0</td>\n",
       "      <td>0.0</td>\n",
       "    </tr>\n",
       "    <tr>\n",
       "      <th>screaming</th>\n",
       "      <td>0.0</td>\n",
       "      <td>2.0</td>\n",
       "    </tr>\n",
       "    <tr>\n",
       "      <th>network</th>\n",
       "      <td>0.0</td>\n",
       "      <td>12.0</td>\n",
       "    </tr>\n",
       "  </tbody>\n",
       "</table>\n",
       "</div>"
      ],
      "text/plain": [
       "           non_viral  viral\n",
       "token                      \n",
       "puff             0.0   10.0\n",
       "canada          92.0  247.0\n",
       "comtent         27.0  206.0\n",
       "burnham          1.0    8.0\n",
       "poops            2.0    1.0\n",
       "surgery          5.0   14.0\n",
       "crohns           0.0    2.0\n",
       "strange          4.0   16.0\n",
       "stray            1.0    1.0\n",
       "commit           0.0    6.0\n",
       "origin           1.0    2.0\n",
       "rhyhorny         0.0    1.0\n",
       "school          44.0  196.0\n",
       "karate           0.0    2.0\n",
       "praised          0.0    1.0\n",
       "purely           1.0    5.0\n",
       "razors           2.0    9.0\n",
       "priest           2.0    0.0\n",
       "screaming        0.0    2.0\n",
       "network          0.0   12.0"
      ]
     },
     "execution_count": 113,
     "metadata": {},
     "output_type": "execute_result"
    }
   ],
   "source": [
    "# examine 5 random DataFrame rows\n",
    "tokens.sample(20, random_state=6)"
   ]
  },
  {
   "cell_type": "code",
   "execution_count": 114,
   "metadata": {
    "collapsed": false
   },
   "outputs": [
    {
     "data": {
      "text/plain": [
       "array([ 1812.,  8910.])"
      ]
     },
     "execution_count": 114,
     "metadata": {},
     "output_type": "execute_result"
    }
   ],
   "source": [
    "# Naive Bayes counts the number of observations in each class\n",
    "nb.class_count_"
   ]
  },
  {
   "cell_type": "code",
   "execution_count": 115,
   "metadata": {
    "collapsed": false
   },
   "outputs": [
    {
     "data": {
      "text/html": [
       "<div>\n",
       "<table border=\"1\" class=\"dataframe\">\n",
       "  <thead>\n",
       "    <tr style=\"text-align: right;\">\n",
       "      <th></th>\n",
       "      <th>non_viral</th>\n",
       "      <th>viral</th>\n",
       "    </tr>\n",
       "    <tr>\n",
       "      <th>token</th>\n",
       "      <th></th>\n",
       "      <th></th>\n",
       "    </tr>\n",
       "  </thead>\n",
       "  <tbody>\n",
       "    <tr>\n",
       "      <th>puff</th>\n",
       "      <td>1.0</td>\n",
       "      <td>11.0</td>\n",
       "    </tr>\n",
       "    <tr>\n",
       "      <th>canada</th>\n",
       "      <td>93.0</td>\n",
       "      <td>248.0</td>\n",
       "    </tr>\n",
       "    <tr>\n",
       "      <th>comtent</th>\n",
       "      <td>28.0</td>\n",
       "      <td>207.0</td>\n",
       "    </tr>\n",
       "    <tr>\n",
       "      <th>burnham</th>\n",
       "      <td>2.0</td>\n",
       "      <td>9.0</td>\n",
       "    </tr>\n",
       "    <tr>\n",
       "      <th>poops</th>\n",
       "      <td>3.0</td>\n",
       "      <td>2.0</td>\n",
       "    </tr>\n",
       "  </tbody>\n",
       "</table>\n",
       "</div>"
      ],
      "text/plain": [
       "         non_viral  viral\n",
       "token                    \n",
       "puff           1.0   11.0\n",
       "canada        93.0  248.0\n",
       "comtent       28.0  207.0\n",
       "burnham        2.0    9.0\n",
       "poops          3.0    2.0"
      ]
     },
     "execution_count": 115,
     "metadata": {},
     "output_type": "execute_result"
    }
   ],
   "source": [
    "# add 1 to non-viral and viral counts to avoid dividing by 0\n",
    "tokens['non_viral'] = tokens.non_viral + 1\n",
    "tokens['viral'] = tokens.viral + 1\n",
    "tokens.sample(5, random_state=6)"
   ]
  },
  {
   "cell_type": "code",
   "execution_count": 116,
   "metadata": {
    "collapsed": false
   },
   "outputs": [
    {
     "data": {
      "text/html": [
       "<div>\n",
       "<table border=\"1\" class=\"dataframe\">\n",
       "  <thead>\n",
       "    <tr style=\"text-align: right;\">\n",
       "      <th></th>\n",
       "      <th>non_viral</th>\n",
       "      <th>viral</th>\n",
       "    </tr>\n",
       "    <tr>\n",
       "      <th>token</th>\n",
       "      <th></th>\n",
       "      <th></th>\n",
       "    </tr>\n",
       "  </thead>\n",
       "  <tbody>\n",
       "    <tr>\n",
       "      <th>puff</th>\n",
       "      <td>0.000552</td>\n",
       "      <td>0.001235</td>\n",
       "    </tr>\n",
       "    <tr>\n",
       "      <th>canada</th>\n",
       "      <td>0.051325</td>\n",
       "      <td>0.027834</td>\n",
       "    </tr>\n",
       "    <tr>\n",
       "      <th>comtent</th>\n",
       "      <td>0.015453</td>\n",
       "      <td>0.023232</td>\n",
       "    </tr>\n",
       "    <tr>\n",
       "      <th>burnham</th>\n",
       "      <td>0.001104</td>\n",
       "      <td>0.001010</td>\n",
       "    </tr>\n",
       "    <tr>\n",
       "      <th>poops</th>\n",
       "      <td>0.001656</td>\n",
       "      <td>0.000224</td>\n",
       "    </tr>\n",
       "  </tbody>\n",
       "</table>\n",
       "</div>"
      ],
      "text/plain": [
       "         non_viral     viral\n",
       "token                       \n",
       "puff      0.000552  0.001235\n",
       "canada    0.051325  0.027834\n",
       "comtent   0.015453  0.023232\n",
       "burnham   0.001104  0.001010\n",
       "poops     0.001656  0.000224"
      ]
     },
     "execution_count": 116,
     "metadata": {},
     "output_type": "execute_result"
    }
   ],
   "source": [
    "# convert the non-viral and viral counts into frequencies\n",
    "tokens['non_viral'] = tokens.non_viral / nb.class_count_[0]\n",
    "tokens['viral'] = tokens.viral / nb.class_count_[1]\n",
    "tokens.sample(5, random_state=6)"
   ]
  },
  {
   "cell_type": "code",
   "execution_count": 117,
   "metadata": {
    "collapsed": false
   },
   "outputs": [
    {
     "data": {
      "text/html": [
       "<div>\n",
       "<table border=\"1\" class=\"dataframe\">\n",
       "  <thead>\n",
       "    <tr style=\"text-align: right;\">\n",
       "      <th></th>\n",
       "      <th>non_viral</th>\n",
       "      <th>viral</th>\n",
       "      <th>viral_ratio</th>\n",
       "    </tr>\n",
       "    <tr>\n",
       "      <th>token</th>\n",
       "      <th></th>\n",
       "      <th></th>\n",
       "      <th></th>\n",
       "    </tr>\n",
       "  </thead>\n",
       "  <tbody>\n",
       "    <tr>\n",
       "      <th>puff</th>\n",
       "      <td>0.000552</td>\n",
       "      <td>0.001235</td>\n",
       "      <td>2.237037</td>\n",
       "    </tr>\n",
       "    <tr>\n",
       "      <th>canada</th>\n",
       "      <td>0.051325</td>\n",
       "      <td>0.027834</td>\n",
       "      <td>0.542312</td>\n",
       "    </tr>\n",
       "    <tr>\n",
       "      <th>comtent</th>\n",
       "      <td>0.015453</td>\n",
       "      <td>0.023232</td>\n",
       "      <td>1.503463</td>\n",
       "    </tr>\n",
       "    <tr>\n",
       "      <th>burnham</th>\n",
       "      <td>0.001104</td>\n",
       "      <td>0.001010</td>\n",
       "      <td>0.915152</td>\n",
       "    </tr>\n",
       "    <tr>\n",
       "      <th>poops</th>\n",
       "      <td>0.001656</td>\n",
       "      <td>0.000224</td>\n",
       "      <td>0.135578</td>\n",
       "    </tr>\n",
       "  </tbody>\n",
       "</table>\n",
       "</div>"
      ],
      "text/plain": [
       "         non_viral     viral  viral_ratio\n",
       "token                                    \n",
       "puff      0.000552  0.001235     2.237037\n",
       "canada    0.051325  0.027834     0.542312\n",
       "comtent   0.015453  0.023232     1.503463\n",
       "burnham   0.001104  0.001010     0.915152\n",
       "poops     0.001656  0.000224     0.135578"
      ]
     },
     "execution_count": 117,
     "metadata": {},
     "output_type": "execute_result"
    }
   ],
   "source": [
    "# calculate the ratio of viral-to-non-viral for each token\n",
    "tokens['viral_ratio'] = tokens.viral / tokens.non_viral\n",
    "tokens.sample(5, random_state=6)"
   ]
  },
  {
   "cell_type": "code",
   "execution_count": 118,
   "metadata": {
    "collapsed": false
   },
   "outputs": [
    {
     "data": {
      "text/html": [
       "<div>\n",
       "<table border=\"1\" class=\"dataframe\">\n",
       "  <thead>\n",
       "    <tr style=\"text-align: right;\">\n",
       "      <th></th>\n",
       "      <th>non_viral</th>\n",
       "      <th>viral</th>\n",
       "      <th>viral_ratio</th>\n",
       "    </tr>\n",
       "    <tr>\n",
       "      <th>token</th>\n",
       "      <th></th>\n",
       "      <th></th>\n",
       "      <th></th>\n",
       "    </tr>\n",
       "  </thead>\n",
       "  <tbody>\n",
       "    <tr>\n",
       "      <th>petty</th>\n",
       "      <td>0.000552</td>\n",
       "      <td>0.007183</td>\n",
       "      <td>13.015488</td>\n",
       "    </tr>\n",
       "    <tr>\n",
       "      <th>stanford</th>\n",
       "      <td>0.001104</td>\n",
       "      <td>0.013917</td>\n",
       "      <td>12.608754</td>\n",
       "    </tr>\n",
       "    <tr>\n",
       "      <th>gym</th>\n",
       "      <td>0.000552</td>\n",
       "      <td>0.006846</td>\n",
       "      <td>12.405387</td>\n",
       "    </tr>\n",
       "    <tr>\n",
       "      <th>sims</th>\n",
       "      <td>0.000552</td>\n",
       "      <td>0.006510</td>\n",
       "      <td>11.795286</td>\n",
       "    </tr>\n",
       "    <tr>\n",
       "      <th>bra</th>\n",
       "      <td>0.000552</td>\n",
       "      <td>0.006510</td>\n",
       "      <td>11.795286</td>\n",
       "    </tr>\n",
       "    <tr>\n",
       "      <th>boobs</th>\n",
       "      <td>0.001104</td>\n",
       "      <td>0.012570</td>\n",
       "      <td>11.388552</td>\n",
       "    </tr>\n",
       "    <tr>\n",
       "      <th>yeah</th>\n",
       "      <td>0.000552</td>\n",
       "      <td>0.005051</td>\n",
       "      <td>9.151515</td>\n",
       "    </tr>\n",
       "    <tr>\n",
       "      <th>san</th>\n",
       "      <td>0.000552</td>\n",
       "      <td>0.004826</td>\n",
       "      <td>8.744781</td>\n",
       "    </tr>\n",
       "    <tr>\n",
       "      <th>spears</th>\n",
       "      <td>0.000552</td>\n",
       "      <td>0.004377</td>\n",
       "      <td>7.931313</td>\n",
       "    </tr>\n",
       "    <tr>\n",
       "      <th>victoria</th>\n",
       "      <td>0.000552</td>\n",
       "      <td>0.004153</td>\n",
       "      <td>7.524579</td>\n",
       "    </tr>\n",
       "    <tr>\n",
       "      <th>hairy</th>\n",
       "      <td>0.000552</td>\n",
       "      <td>0.004153</td>\n",
       "      <td>7.524579</td>\n",
       "    </tr>\n",
       "    <tr>\n",
       "      <th>crime</th>\n",
       "      <td>0.000552</td>\n",
       "      <td>0.004040</td>\n",
       "      <td>7.321212</td>\n",
       "    </tr>\n",
       "    <tr>\n",
       "      <th>fries</th>\n",
       "      <td>0.001656</td>\n",
       "      <td>0.012009</td>\n",
       "      <td>7.253423</td>\n",
       "    </tr>\n",
       "    <tr>\n",
       "      <th>chyna</th>\n",
       "      <td>0.000552</td>\n",
       "      <td>0.003928</td>\n",
       "      <td>7.117845</td>\n",
       "    </tr>\n",
       "    <tr>\n",
       "      <th>rob</th>\n",
       "      <td>0.000552</td>\n",
       "      <td>0.003928</td>\n",
       "      <td>7.117845</td>\n",
       "    </tr>\n",
       "    <tr>\n",
       "      <th>disgusting</th>\n",
       "      <td>0.000552</td>\n",
       "      <td>0.003928</td>\n",
       "      <td>7.117845</td>\n",
       "    </tr>\n",
       "    <tr>\n",
       "      <th>blac</th>\n",
       "      <td>0.000552</td>\n",
       "      <td>0.003928</td>\n",
       "      <td>7.117845</td>\n",
       "    </tr>\n",
       "    <tr>\n",
       "      <th>elba</th>\n",
       "      <td>0.000552</td>\n",
       "      <td>0.003816</td>\n",
       "      <td>6.914478</td>\n",
       "    </tr>\n",
       "    <tr>\n",
       "      <th>alligator</th>\n",
       "      <td>0.000552</td>\n",
       "      <td>0.003816</td>\n",
       "      <td>6.914478</td>\n",
       "    </tr>\n",
       "    <tr>\n",
       "      <th>idris</th>\n",
       "      <td>0.000552</td>\n",
       "      <td>0.003816</td>\n",
       "      <td>6.914478</td>\n",
       "    </tr>\n",
       "    <tr>\n",
       "      <th>anal</th>\n",
       "      <td>0.000552</td>\n",
       "      <td>0.003816</td>\n",
       "      <td>6.914478</td>\n",
       "    </tr>\n",
       "    <tr>\n",
       "      <th>spray</th>\n",
       "      <td>0.000552</td>\n",
       "      <td>0.003816</td>\n",
       "      <td>6.914478</td>\n",
       "    </tr>\n",
       "    <tr>\n",
       "      <th>soda</th>\n",
       "      <td>0.000552</td>\n",
       "      <td>0.003704</td>\n",
       "      <td>6.711111</td>\n",
       "    </tr>\n",
       "    <tr>\n",
       "      <th>1ups</th>\n",
       "      <td>0.000552</td>\n",
       "      <td>0.003704</td>\n",
       "      <td>6.711111</td>\n",
       "    </tr>\n",
       "    <tr>\n",
       "      <th>judge</th>\n",
       "      <td>0.000552</td>\n",
       "      <td>0.003704</td>\n",
       "      <td>6.711111</td>\n",
       "    </tr>\n",
       "    <tr>\n",
       "      <th>pubes</th>\n",
       "      <td>0.000552</td>\n",
       "      <td>0.003591</td>\n",
       "      <td>6.507744</td>\n",
       "    </tr>\n",
       "    <tr>\n",
       "      <th>eyebrow</th>\n",
       "      <td>0.000552</td>\n",
       "      <td>0.003479</td>\n",
       "      <td>6.304377</td>\n",
       "    </tr>\n",
       "    <tr>\n",
       "      <th>simpsons</th>\n",
       "      <td>0.000552</td>\n",
       "      <td>0.003479</td>\n",
       "      <td>6.304377</td>\n",
       "    </tr>\n",
       "    <tr>\n",
       "      <th>diego</th>\n",
       "      <td>0.000552</td>\n",
       "      <td>0.003479</td>\n",
       "      <td>6.304377</td>\n",
       "    </tr>\n",
       "    <tr>\n",
       "      <th>cramps</th>\n",
       "      <td>0.000552</td>\n",
       "      <td>0.003479</td>\n",
       "      <td>6.304377</td>\n",
       "    </tr>\n",
       "    <tr>\n",
       "      <th>...</th>\n",
       "      <td>...</td>\n",
       "      <td>...</td>\n",
       "      <td>...</td>\n",
       "    </tr>\n",
       "    <tr>\n",
       "      <th>eacute</th>\n",
       "      <td>0.003311</td>\n",
       "      <td>0.000112</td>\n",
       "      <td>0.033895</td>\n",
       "    </tr>\n",
       "    <tr>\n",
       "      <th>charleston</th>\n",
       "      <td>0.003311</td>\n",
       "      <td>0.000112</td>\n",
       "      <td>0.033895</td>\n",
       "    </tr>\n",
       "    <tr>\n",
       "      <th>fierravanti</th>\n",
       "      <td>0.003311</td>\n",
       "      <td>0.000112</td>\n",
       "      <td>0.033895</td>\n",
       "    </tr>\n",
       "    <tr>\n",
       "      <th>lehengas</th>\n",
       "      <td>0.003311</td>\n",
       "      <td>0.000112</td>\n",
       "      <td>0.033895</td>\n",
       "    </tr>\n",
       "    <tr>\n",
       "      <th>fasting</th>\n",
       "      <td>0.003311</td>\n",
       "      <td>0.000112</td>\n",
       "      <td>0.033895</td>\n",
       "    </tr>\n",
       "    <tr>\n",
       "      <th>dil</th>\n",
       "      <td>0.003311</td>\n",
       "      <td>0.000112</td>\n",
       "      <td>0.033895</td>\n",
       "    </tr>\n",
       "    <tr>\n",
       "      <th>toby</th>\n",
       "      <td>0.003311</td>\n",
       "      <td>0.000112</td>\n",
       "      <td>0.033895</td>\n",
       "    </tr>\n",
       "    <tr>\n",
       "      <th>gen</th>\n",
       "      <td>0.003311</td>\n",
       "      <td>0.000112</td>\n",
       "      <td>0.033895</td>\n",
       "    </tr>\n",
       "    <tr>\n",
       "      <th>alpha</th>\n",
       "      <td>0.003311</td>\n",
       "      <td>0.000112</td>\n",
       "      <td>0.033895</td>\n",
       "    </tr>\n",
       "    <tr>\n",
       "      <th>iftar</th>\n",
       "      <td>0.003311</td>\n",
       "      <td>0.000112</td>\n",
       "      <td>0.033895</td>\n",
       "    </tr>\n",
       "    <tr>\n",
       "      <th>ipl</th>\n",
       "      <td>0.003311</td>\n",
       "      <td>0.000112</td>\n",
       "      <td>0.033895</td>\n",
       "    </tr>\n",
       "    <tr>\n",
       "      <th>yang</th>\n",
       "      <td>0.003311</td>\n",
       "      <td>0.000112</td>\n",
       "      <td>0.033895</td>\n",
       "    </tr>\n",
       "    <tr>\n",
       "      <th>concetta</th>\n",
       "      <td>0.003311</td>\n",
       "      <td>0.000112</td>\n",
       "      <td>0.033895</td>\n",
       "    </tr>\n",
       "    <tr>\n",
       "      <th>rickshaw</th>\n",
       "      <td>0.003311</td>\n",
       "      <td>0.000112</td>\n",
       "      <td>0.033895</td>\n",
       "    </tr>\n",
       "    <tr>\n",
       "      <th>noor</th>\n",
       "      <td>0.003311</td>\n",
       "      <td>0.000112</td>\n",
       "      <td>0.033895</td>\n",
       "    </tr>\n",
       "    <tr>\n",
       "      <th>janitor</th>\n",
       "      <td>0.003863</td>\n",
       "      <td>0.000112</td>\n",
       "      <td>0.029052</td>\n",
       "    </tr>\n",
       "    <tr>\n",
       "      <th>letters</th>\n",
       "      <td>0.003863</td>\n",
       "      <td>0.000112</td>\n",
       "      <td>0.029052</td>\n",
       "    </tr>\n",
       "    <tr>\n",
       "      <th>starter</th>\n",
       "      <td>0.003863</td>\n",
       "      <td>0.000112</td>\n",
       "      <td>0.029052</td>\n",
       "    </tr>\n",
       "    <tr>\n",
       "      <th>sonu</th>\n",
       "      <td>0.003863</td>\n",
       "      <td>0.000112</td>\n",
       "      <td>0.029052</td>\n",
       "    </tr>\n",
       "    <tr>\n",
       "      <th>snippet</th>\n",
       "      <td>0.003863</td>\n",
       "      <td>0.000112</td>\n",
       "      <td>0.029052</td>\n",
       "    </tr>\n",
       "    <tr>\n",
       "      <th>nigam</th>\n",
       "      <td>0.003863</td>\n",
       "      <td>0.000112</td>\n",
       "      <td>0.029052</td>\n",
       "    </tr>\n",
       "    <tr>\n",
       "      <th>osborne</th>\n",
       "      <td>0.003863</td>\n",
       "      <td>0.000112</td>\n",
       "      <td>0.029052</td>\n",
       "    </tr>\n",
       "    <tr>\n",
       "      <th>kabali</th>\n",
       "      <td>0.003863</td>\n",
       "      <td>0.000112</td>\n",
       "      <td>0.029052</td>\n",
       "    </tr>\n",
       "    <tr>\n",
       "      <th>pronounce</th>\n",
       "      <td>0.003863</td>\n",
       "      <td>0.000112</td>\n",
       "      <td>0.029052</td>\n",
       "    </tr>\n",
       "    <tr>\n",
       "      <th>brunswick</th>\n",
       "      <td>0.003863</td>\n",
       "      <td>0.000112</td>\n",
       "      <td>0.029052</td>\n",
       "    </tr>\n",
       "    <tr>\n",
       "      <th>momentum</th>\n",
       "      <td>0.003863</td>\n",
       "      <td>0.000112</td>\n",
       "      <td>0.029052</td>\n",
       "    </tr>\n",
       "    <tr>\n",
       "      <th>resting</th>\n",
       "      <td>0.003863</td>\n",
       "      <td>0.000112</td>\n",
       "      <td>0.029052</td>\n",
       "    </tr>\n",
       "    <tr>\n",
       "      <th>peach</th>\n",
       "      <td>0.003863</td>\n",
       "      <td>0.000112</td>\n",
       "      <td>0.029052</td>\n",
       "    </tr>\n",
       "    <tr>\n",
       "      <th>dhoni</th>\n",
       "      <td>0.004967</td>\n",
       "      <td>0.000112</td>\n",
       "      <td>0.022596</td>\n",
       "    </tr>\n",
       "    <tr>\n",
       "      <th>frappe</th>\n",
       "      <td>0.004967</td>\n",
       "      <td>0.000112</td>\n",
       "      <td>0.022596</td>\n",
       "    </tr>\n",
       "  </tbody>\n",
       "</table>\n",
       "<p>15808 rows × 3 columns</p>\n",
       "</div>"
      ],
      "text/plain": [
       "             non_viral     viral  viral_ratio\n",
       "token                                        \n",
       "petty         0.000552  0.007183    13.015488\n",
       "stanford      0.001104  0.013917    12.608754\n",
       "gym           0.000552  0.006846    12.405387\n",
       "sims          0.000552  0.006510    11.795286\n",
       "bra           0.000552  0.006510    11.795286\n",
       "boobs         0.001104  0.012570    11.388552\n",
       "yeah          0.000552  0.005051     9.151515\n",
       "san           0.000552  0.004826     8.744781\n",
       "spears        0.000552  0.004377     7.931313\n",
       "victoria      0.000552  0.004153     7.524579\n",
       "hairy         0.000552  0.004153     7.524579\n",
       "crime         0.000552  0.004040     7.321212\n",
       "fries         0.001656  0.012009     7.253423\n",
       "chyna         0.000552  0.003928     7.117845\n",
       "rob           0.000552  0.003928     7.117845\n",
       "disgusting    0.000552  0.003928     7.117845\n",
       "blac          0.000552  0.003928     7.117845\n",
       "elba          0.000552  0.003816     6.914478\n",
       "alligator     0.000552  0.003816     6.914478\n",
       "idris         0.000552  0.003816     6.914478\n",
       "anal          0.000552  0.003816     6.914478\n",
       "spray         0.000552  0.003816     6.914478\n",
       "soda          0.000552  0.003704     6.711111\n",
       "1ups          0.000552  0.003704     6.711111\n",
       "judge         0.000552  0.003704     6.711111\n",
       "pubes         0.000552  0.003591     6.507744\n",
       "eyebrow       0.000552  0.003479     6.304377\n",
       "simpsons      0.000552  0.003479     6.304377\n",
       "diego         0.000552  0.003479     6.304377\n",
       "cramps        0.000552  0.003479     6.304377\n",
       "...                ...       ...          ...\n",
       "eacute        0.003311  0.000112     0.033895\n",
       "charleston    0.003311  0.000112     0.033895\n",
       "fierravanti   0.003311  0.000112     0.033895\n",
       "lehengas      0.003311  0.000112     0.033895\n",
       "fasting       0.003311  0.000112     0.033895\n",
       "dil           0.003311  0.000112     0.033895\n",
       "toby          0.003311  0.000112     0.033895\n",
       "gen           0.003311  0.000112     0.033895\n",
       "alpha         0.003311  0.000112     0.033895\n",
       "iftar         0.003311  0.000112     0.033895\n",
       "ipl           0.003311  0.000112     0.033895\n",
       "yang          0.003311  0.000112     0.033895\n",
       "concetta      0.003311  0.000112     0.033895\n",
       "rickshaw      0.003311  0.000112     0.033895\n",
       "noor          0.003311  0.000112     0.033895\n",
       "janitor       0.003863  0.000112     0.029052\n",
       "letters       0.003863  0.000112     0.029052\n",
       "starter       0.003863  0.000112     0.029052\n",
       "sonu          0.003863  0.000112     0.029052\n",
       "snippet       0.003863  0.000112     0.029052\n",
       "nigam         0.003863  0.000112     0.029052\n",
       "osborne       0.003863  0.000112     0.029052\n",
       "kabali        0.003863  0.000112     0.029052\n",
       "pronounce     0.003863  0.000112     0.029052\n",
       "brunswick     0.003863  0.000112     0.029052\n",
       "momentum      0.003863  0.000112     0.029052\n",
       "resting       0.003863  0.000112     0.029052\n",
       "peach         0.003863  0.000112     0.029052\n",
       "dhoni         0.004967  0.000112     0.022596\n",
       "frappe        0.004967  0.000112     0.022596\n",
       "\n",
       "[15808 rows x 3 columns]"
      ]
     },
     "execution_count": 118,
     "metadata": {},
     "output_type": "execute_result"
    }
   ],
   "source": [
    "# examine the DataFrame sorted by viral_ratio\n",
    "# note: use sort() instead of sort_values() for pandas 0.16.2 and earlier\n",
    "tokens.sort_values('viral_ratio', ascending=False)"
   ]
  },
  {
   "cell_type": "code",
   "execution_count": 119,
   "metadata": {
    "collapsed": false
   },
   "outputs": [
    {
     "data": {
      "text/plain": [
       "12.608754208754208"
      ]
     },
     "execution_count": 119,
     "metadata": {},
     "output_type": "execute_result"
    }
   ],
   "source": [
    "# look up the viral_ratio for a given token\n",
    "tokens.loc['stanford', 'viral_ratio']"
   ]
  },
  {
   "cell_type": "code",
   "execution_count": null,
   "metadata": {
    "collapsed": true
   },
   "outputs": [],
   "source": []
  },
  {
   "cell_type": "code",
   "execution_count": null,
   "metadata": {
    "collapsed": true
   },
   "outputs": [],
   "source": []
  },
  {
   "cell_type": "code",
   "execution_count": null,
   "metadata": {
    "collapsed": true
   },
   "outputs": [],
   "source": []
  }
 ],
 "metadata": {
  "kernelspec": {
   "display_name": "Python 2",
   "language": "python",
   "name": "python2"
  },
  "language_info": {
   "codemirror_mode": {
    "name": "ipython",
    "version": 2
   },
   "file_extension": ".py",
   "mimetype": "text/x-python",
   "name": "python",
   "nbconvert_exporter": "python",
   "pygments_lexer": "ipython2",
   "version": "2.7.10"
  }
 },
 "nbformat": 4,
 "nbformat_minor": 0
}
