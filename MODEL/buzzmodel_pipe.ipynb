{
 "cells": [
  {
   "cell_type": "markdown",
   "metadata": {},
   "source": [
    "NOTE:  Need data with Max/Impressions; Need separator between phrases in Primary_kw and Tags.\n",
    "\n",
    "\n",
    "# BuzzModel - Build a prediction model for articles\n",
    "### Step 1: Load Data and Clean it up\n",
    "#### A. Features: Clean Null\n",
    "#### B. Target: Normalize - use (freq, Impressions) and max_impressions\n",
    "Use Viral, Non-Viral (Pick -1 Std. Dev. as an arbitrary marker)\n",
    "Try Multiple Classes: 1 Buzz (Bottom quartile), 2 (Middle 50%) Buzz and 3(Top Quartile) Buzz\n",
    "### Step 2: Describe data and understand data\n",
    "#### A. ...\n",
    "### Step 3: Select Features to try-out\n",
    "#### A. Combination of All Texts\n",
    "#### B. Identify ones with signals\n",
    "#### C. Remove infrequent terms\n",
    "#### D. Remove too-frequent terms\n",
    "#### E. Remove instances with time bias (News)\n",
    "#### F.  Use tags and primary_kw phrases as tokens instead of breaking them apart (Convert String to List)\n",
    "#### G. \n",
    "### Step 4: Modeling\n",
    "#### Model Selection:  Multinomial NB, Logistic Regression, SVM (Maybe if we have time.\n",
    "#### Hyperparameter tuning\n",
    "### Step 5: Pipeline\n",
    "#### Cross Validation\n",
    "### Step 6: Feature Engineering and Reduction \n",
    "#### Try another model:  Length of title, Number of Tags, List or other description of the title\n",
    "#### Feature reduction (PCA, SVD)\n",
    "#### Feature union\n",
    "#### Weighted feature analysis - what is more important:  Title, Descr, Keywords, Tags\n",
    "### Step 7: Random things to try:\n",
    "#### A. Based upon articles that go viral in a country, impact of : source country, cats, keywords, etc. (pandas can do this)"
   ]
  },
  {
   "cell_type": "code",
   "execution_count": 1,
   "metadata": {
    "collapsed": true
   },
   "outputs": [],
   "source": [
    "import os\n",
    "import json\n",
    "import time\n",
    "import pickle\n",
    "import requests\n",
    "import math\n",
    "\n",
    "\n",
    "import numpy as np\n",
    "import pandas as pd\n",
    "import matplotlib.pyplot as plt\n",
    "import random"
   ]
  },
  {
   "cell_type": "code",
   "execution_count": 112,
   "metadata": {
    "collapsed": false
   },
   "outputs": [
    {
     "data": {
      "text/html": [
       "<div>\n",
       "<table border=\"1\" class=\"dataframe\">\n",
       "  <thead>\n",
       "    <tr style=\"text-align: right;\">\n",
       "      <th></th>\n",
       "      <th>id</th>\n",
       "      <th>pull_cc</th>\n",
       "      <th>cc</th>\n",
       "      <th>freq</th>\n",
       "      <th>impressions</th>\n",
       "      <th>descr</th>\n",
       "      <th>cat</th>\n",
       "      <th>title</th>\n",
       "      <th>metav</th>\n",
       "      <th>primary_kw</th>\n",
       "      <th>tags</th>\n",
       "    </tr>\n",
       "  </thead>\n",
       "  <tbody>\n",
       "    <tr>\n",
       "      <th>0</th>\n",
       "      <td>4251480</td>\n",
       "      <td>au</td>\n",
       "      <td>en-us</td>\n",
       "      <td>2</td>\n",
       "      <td>29316</td>\n",
       "      <td>Giant man with tiny dog alert!</td>\n",
       "      <td>Celebrity</td>\n",
       "      <td>The Mountain From \"Game Of Thrones\" Has A Ridi...</td>\n",
       "      <td>buzz</td>\n",
       "      <td>the mountain</td>\n",
       "      <td>dogs game of thrones instagram pomeranians pup...</td>\n",
       "    </tr>\n",
       "    <tr>\n",
       "      <th>1</th>\n",
       "      <td>4312033</td>\n",
       "      <td>ca</td>\n",
       "      <td>en-us</td>\n",
       "      <td>2</td>\n",
       "      <td>17180</td>\n",
       "      <td>FYI: Ice cream sandwiches &amp;gt; all other sandw...</td>\n",
       "      <td>Food</td>\n",
       "      <td>16 Grown-Up Ice Cream Sandwiches That'll Up Yo...</td>\n",
       "      <td>life</td>\n",
       "      <td>ice cream sandwiches</td>\n",
       "      <td>dessert DIY ice cream food52 homemade ice crea...</td>\n",
       "    </tr>\n",
       "    <tr>\n",
       "      <th>2</th>\n",
       "      <td>4236366</td>\n",
       "      <td>au</td>\n",
       "      <td>en-us</td>\n",
       "      <td>2</td>\n",
       "      <td>3474</td>\n",
       "      <td>\"My mama always said you can tell a lot about ...</td>\n",
       "      <td>Style</td>\n",
       "      <td>17 Shoe Charts Every Guy Needs To Bookmark</td>\n",
       "      <td>life</td>\n",
       "      <td>menslifestyle</td>\n",
       "      <td>charts shoes</td>\n",
       "    </tr>\n",
       "    <tr>\n",
       "      <th>3</th>\n",
       "      <td>4306947</td>\n",
       "      <td>in</td>\n",
       "      <td>en-us</td>\n",
       "      <td>2</td>\n",
       "      <td>9027</td>\n",
       "      <td>Let's see if you're a true cheese whiz.</td>\n",
       "      <td>Food</td>\n",
       "      <td>Can You Find All The Cheese?</td>\n",
       "      <td>life</td>\n",
       "      <td>cheese</td>\n",
       "      <td>cheese quiz cheesy Food food quiz jumblequiz t...</td>\n",
       "    </tr>\n",
       "    <tr>\n",
       "      <th>4</th>\n",
       "      <td>4253360</td>\n",
       "      <td>au</td>\n",
       "      <td>en-us</td>\n",
       "      <td>2</td>\n",
       "      <td>7247</td>\n",
       "      <td>The EPA just released first-time guidelines on...</td>\n",
       "      <td>Science</td>\n",
       "      <td>Where To Worry About  Fluorinated  Chemicals I...</td>\n",
       "      <td>news</td>\n",
       "      <td>science news</td>\n",
       "      <td>epa fluorinated chemicals water</td>\n",
       "    </tr>\n",
       "  </tbody>\n",
       "</table>\n",
       "</div>"
      ],
      "text/plain": [
       "        id pull_cc     cc  freq  impressions  \\\n",
       "0  4251480      au  en-us     2        29316   \n",
       "1  4312033      ca  en-us     2        17180   \n",
       "2  4236366      au  en-us     2         3474   \n",
       "3  4306947      in  en-us     2         9027   \n",
       "4  4253360      au  en-us     2         7247   \n",
       "\n",
       "                                               descr        cat  \\\n",
       "0                     Giant man with tiny dog alert!  Celebrity   \n",
       "1  FYI: Ice cream sandwiches &gt; all other sandw...       Food   \n",
       "2  \"My mama always said you can tell a lot about ...      Style   \n",
       "3            Let's see if you're a true cheese whiz.       Food   \n",
       "4  The EPA just released first-time guidelines on...    Science   \n",
       "\n",
       "                                               title metav  \\\n",
       "0  The Mountain From \"Game Of Thrones\" Has A Ridi...  buzz   \n",
       "1  16 Grown-Up Ice Cream Sandwiches That'll Up Yo...  life   \n",
       "2         17 Shoe Charts Every Guy Needs To Bookmark  life   \n",
       "3                       Can You Find All The Cheese?  life   \n",
       "4  Where To Worry About  Fluorinated  Chemicals I...  news   \n",
       "\n",
       "             primary_kw                                               tags  \n",
       "0          the mountain  dogs game of thrones instagram pomeranians pup...  \n",
       "1  ice cream sandwiches  dessert DIY ice cream food52 homemade ice crea...  \n",
       "2         menslifestyle                                       charts shoes  \n",
       "3                cheese  cheese quiz cheesy Food food quiz jumblequiz t...  \n",
       "4          science news                    epa fluorinated chemicals water  "
      ]
     },
     "execution_count": 112,
     "metadata": {},
     "output_type": "execute_result"
    }
   ],
   "source": [
    "df = pd.DataFrame()\n",
    "df = pd.read_csv('may_june_july.csv', delimiter=\"|\")\n",
    "#df = df[df.pull_cc == 'us']\n",
    "#df = df.reset_index(drop=True)\n",
    "df.head()\n",
    "\n",
    "\n"
   ]
  },
  {
   "cell_type": "code",
   "execution_count": 113,
   "metadata": {
    "collapsed": false
   },
   "outputs": [
    {
     "name": "stdout",
     "output_type": "stream",
     "text": [
      "            id pull_cc     cc  freq  impressions  \\\n",
      "14292  4267490      us  en-us   240     16919616   \n",
      "14293  4267490      uk  en-us   242     17616881   \n",
      "14294  4267490      ca  en-us   244     17497742   \n",
      "14295  4209250      au  en-au   274       257463   \n",
      "14296  4206100      in  en-uk   336      1329315   \n",
      "\n",
      "                                                   descr        cat  \\\n",
      "14292  A former Stanford swimmer who sexually assault...     USNews   \n",
      "14293  A former Stanford swimmer who sexually assault...     USNews   \n",
      "14294  A former Stanford swimmer who sexually assault...     USNews   \n",
      "14295        A definitive ranking of our dirtiest words.  Australia   \n",
      "14296  Don't worry, you won't need to know Chandler B...         UK   \n",
      "\n",
      "                                                   title metav  \\\n",
      "14292  Here's The Powerful Letter The Stanford Victim...  news   \n",
      "14293  Here's The Powerful Letter The Stanford Victim...  news   \n",
      "14294  Here's The Powerful Letter The Stanford Victim...  news   \n",
      "14295      The 100 Rudest Fucking Things Australians Say  None   \n",
      "14296  Only A True \"Friends\" Fan Can Get More Than 15...  None   \n",
      "\n",
      "                  primary_kw  \\\n",
      "14292  campus sexual assault   \n",
      "14293  campus sexual assault   \n",
      "14294  campus sexual assault   \n",
      "14295              Australia   \n",
      "14296                friends   \n",
      "\n",
      "                                                    tags  \\\n",
      "14292                                stanford university   \n",
      "14293                                stanford university   \n",
      "14294                                stanford university   \n",
      "14295  arse over tit arsewipe bloody hell bloody wank...   \n",
      "14296  courtney cox david schwimmer Friends quiz frie...   \n",
      "\n",
      "                                                 AllText  \n",
      "14292  en-us A former Stanford swimmer who sexually a...  \n",
      "14293  en-us A former Stanford swimmer who sexually a...  \n",
      "14294  en-us A former Stanford swimmer who sexually a...  \n",
      "14295  en-au A definitive ranking of our dirtiest wor...  \n",
      "14296  en-uk Don't worry, you won't need to know Chan...  \n",
      "9.97906734145\n",
      "3.21618646466\n"
     ]
    },
    {
     "data": {
      "image/png": "[encoded data removed]",
      "text/plain": [
       "<matplotlib.figure.Figure at 0x10e2e7f90>"
      ]
     },
     "metadata": {},
     "output_type": "display_data"
    }
   ],
   "source": [
    "# Combine all text\n",
    "df['AllText'] = \"\"\n",
    "df['primary_kw'].fillna(\" \", inplace=True)\n",
    "df['tags'].fillna(\" \", inplace=True)\n",
    "for i, row in df.iterrows():\n",
    "    #cv = df.iloc[i,5]+\" \"+df.iloc[i,6]+\" \"+df.iloc[i,7]+\" \"+df.iloc[i,8]+\" \"+df.iloc[i,9]+\" \"+df.iloc[i,10]\n",
    "    #Remove metav and cat\n",
    "    cv = df.iloc[i,2]+\" \"+df.iloc[i,5]+\" \"+df.iloc[i,6]+\" \"+df.iloc[i,7]+\" \"+df.iloc[i,9]+\" \"+df.iloc[i,10]\n",
    "    df.set_value(i,'AllText',cv)\n",
    "\n",
    "print df.tail()\n",
    "\n",
    "\n",
    "# Log to convert to Normal Distribution\n",
    "df['Log'] = df['freq']*(df['impressions']+1)/1000\n",
    "\n",
    "for i, row in df.iterrows():\n",
    "    cv = math.log(df.iloc[i,12],2)\n",
    "    df.set_value(i,'Log',cv)\n",
    "    \n",
    "# analyse data a bit\n",
    "data_mean = df[\"Log\"].mean()\n",
    "print data_mean\n",
    "data_std = df[\"Log\"].std()\n",
    "print data_std\n",
    "%matplotlib inline\n",
    "plt.hist(df[\"Log\"])\n",
    "plt.show()\n",
    "\n",
    "# Assign buzzes\n",
    "df['viral'] = \"\"\n",
    "for i, row in df.iterrows():\n",
    "    if df.iloc[i,12]<=(data_mean-1.5*data_std):\n",
    "        df.set_value(i,'viral','1buzz')\n",
    "    elif (df.iloc[i,12]>(data_mean+1.5*data_std)):\n",
    "        df.set_value(i,'viral','3buzz')\n",
    "    else:\n",
    "        df.set_value(i,'viral','2buzz')\n",
    "\n",
    "\n",
    "#df['viral'] = np.where(df['Log']<data_mean-1*data_std, 'notviral', 'viral')\n",
    "df['viral_num'] = 0\n",
    "df['viral_num'] = df.viral.map({'1buzz':1, '2buzz':2, '3buzz':3})"
   ]
  },
  {
   "cell_type": "code",
   "execution_count": 114,
   "metadata": {
    "collapsed": false
   },
   "outputs": [
    {
     "data": {
      "text/html": [
       "<div>\n",
       "<table border=\"1\" class=\"dataframe\">\n",
       "  <thead>\n",
       "    <tr style=\"text-align: right;\">\n",
       "      <th></th>\n",
       "      <th>id</th>\n",
       "      <th>pull_cc</th>\n",
       "      <th>cc</th>\n",
       "      <th>freq</th>\n",
       "      <th>impressions</th>\n",
       "      <th>descr</th>\n",
       "      <th>cat</th>\n",
       "      <th>title</th>\n",
       "      <th>metav</th>\n",
       "      <th>primary_kw</th>\n",
       "      <th>tags</th>\n",
       "      <th>AllText</th>\n",
       "      <th>Log</th>\n",
       "      <th>viral</th>\n",
       "      <th>viral_num</th>\n",
       "    </tr>\n",
       "  </thead>\n",
       "  <tbody>\n",
       "    <tr>\n",
       "      <th>0</th>\n",
       "      <td>4251480</td>\n",
       "      <td>au</td>\n",
       "      <td>en-us</td>\n",
       "      <td>2</td>\n",
       "      <td>29316</td>\n",
       "      <td>Giant man with tiny dog alert!</td>\n",
       "      <td>Celebrity</td>\n",
       "      <td>The Mountain From \"Game Of Thrones\" Has A Ridi...</td>\n",
       "      <td>buzz</td>\n",
       "      <td>the mountain</td>\n",
       "      <td>dogs game of thrones instagram pomeranians pup...</td>\n",
       "      <td>en-us Giant man with tiny dog alert! Celebrity...</td>\n",
       "      <td>5.873666</td>\n",
       "      <td>2buzz</td>\n",
       "      <td>2</td>\n",
       "    </tr>\n",
       "    <tr>\n",
       "      <th>1</th>\n",
       "      <td>4312033</td>\n",
       "      <td>ca</td>\n",
       "      <td>en-us</td>\n",
       "      <td>2</td>\n",
       "      <td>17180</td>\n",
       "      <td>FYI: Ice cream sandwiches &amp;gt; all other sandw...</td>\n",
       "      <td>Food</td>\n",
       "      <td>16 Grown-Up Ice Cream Sandwiches That'll Up Yo...</td>\n",
       "      <td>life</td>\n",
       "      <td>ice cream sandwiches</td>\n",
       "      <td>dessert DIY ice cream food52 homemade ice crea...</td>\n",
       "      <td>en-us FYI: Ice cream sandwiches &amp;gt; all other...</td>\n",
       "      <td>5.102742</td>\n",
       "      <td>1buzz</td>\n",
       "      <td>1</td>\n",
       "    </tr>\n",
       "    <tr>\n",
       "      <th>2</th>\n",
       "      <td>4236366</td>\n",
       "      <td>au</td>\n",
       "      <td>en-us</td>\n",
       "      <td>2</td>\n",
       "      <td>3474</td>\n",
       "      <td>\"My mama always said you can tell a lot about ...</td>\n",
       "      <td>Style</td>\n",
       "      <td>17 Shoe Charts Every Guy Needs To Bookmark</td>\n",
       "      <td>life</td>\n",
       "      <td>menslifestyle</td>\n",
       "      <td>charts shoes</td>\n",
       "      <td>en-us \"My mama always said you can tell a lot ...</td>\n",
       "      <td>2.797013</td>\n",
       "      <td>1buzz</td>\n",
       "      <td>1</td>\n",
       "    </tr>\n",
       "    <tr>\n",
       "      <th>3</th>\n",
       "      <td>4306947</td>\n",
       "      <td>in</td>\n",
       "      <td>en-us</td>\n",
       "      <td>2</td>\n",
       "      <td>9027</td>\n",
       "      <td>Let's see if you're a true cheese whiz.</td>\n",
       "      <td>Food</td>\n",
       "      <td>Can You Find All The Cheese?</td>\n",
       "      <td>life</td>\n",
       "      <td>cheese</td>\n",
       "      <td>cheese quiz cheesy Food food quiz jumblequiz t...</td>\n",
       "      <td>en-us Let's see if you're a true cheese whiz. ...</td>\n",
       "      <td>4.174406</td>\n",
       "      <td>1buzz</td>\n",
       "      <td>1</td>\n",
       "    </tr>\n",
       "    <tr>\n",
       "      <th>4</th>\n",
       "      <td>4253360</td>\n",
       "      <td>au</td>\n",
       "      <td>en-us</td>\n",
       "      <td>2</td>\n",
       "      <td>7247</td>\n",
       "      <td>The EPA just released first-time guidelines on...</td>\n",
       "      <td>Science</td>\n",
       "      <td>Where To Worry About  Fluorinated  Chemicals I...</td>\n",
       "      <td>news</td>\n",
       "      <td>science news</td>\n",
       "      <td>epa fluorinated chemicals water</td>\n",
       "      <td>en-us The EPA just released first-time guideli...</td>\n",
       "      <td>3.857583</td>\n",
       "      <td>1buzz</td>\n",
       "      <td>1</td>\n",
       "    </tr>\n",
       "  </tbody>\n",
       "</table>\n",
       "</div>"
      ],
      "text/plain": [
       "        id pull_cc     cc  freq  impressions  \\\n",
       "0  4251480      au  en-us     2        29316   \n",
       "1  4312033      ca  en-us     2        17180   \n",
       "2  4236366      au  en-us     2         3474   \n",
       "3  4306947      in  en-us     2         9027   \n",
       "4  4253360      au  en-us     2         7247   \n",
       "\n",
       "                                               descr        cat  \\\n",
       "0                     Giant man with tiny dog alert!  Celebrity   \n",
       "1  FYI: Ice cream sandwiches &gt; all other sandw...       Food   \n",
       "2  \"My mama always said you can tell a lot about ...      Style   \n",
       "3            Let's see if you're a true cheese whiz.       Food   \n",
       "4  The EPA just released first-time guidelines on...    Science   \n",
       "\n",
       "                                               title metav  \\\n",
       "0  The Mountain From \"Game Of Thrones\" Has A Ridi...  buzz   \n",
       "1  16 Grown-Up Ice Cream Sandwiches That'll Up Yo...  life   \n",
       "2         17 Shoe Charts Every Guy Needs To Bookmark  life   \n",
       "3                       Can You Find All The Cheese?  life   \n",
       "4  Where To Worry About  Fluorinated  Chemicals I...  news   \n",
       "\n",
       "             primary_kw                                               tags  \\\n",
       "0          the mountain  dogs game of thrones instagram pomeranians pup...   \n",
       "1  ice cream sandwiches  dessert DIY ice cream food52 homemade ice crea...   \n",
       "2         menslifestyle                                       charts shoes   \n",
       "3                cheese  cheese quiz cheesy Food food quiz jumblequiz t...   \n",
       "4          science news                    epa fluorinated chemicals water   \n",
       "\n",
       "                                             AllText       Log  viral  \\\n",
       "0  en-us Giant man with tiny dog alert! Celebrity...  5.873666  2buzz   \n",
       "1  en-us FYI: Ice cream sandwiches &gt; all other...  5.102742  1buzz   \n",
       "2  en-us \"My mama always said you can tell a lot ...  2.797013  1buzz   \n",
       "3  en-us Let's see if you're a true cheese whiz. ...  4.174406  1buzz   \n",
       "4  en-us The EPA just released first-time guideli...  3.857583  1buzz   \n",
       "\n",
       "   viral_num  \n",
       "0          2  \n",
       "1          1  \n",
       "2          1  \n",
       "3          1  \n",
       "4          1  "
      ]
     },
     "execution_count": 114,
     "metadata": {},
     "output_type": "execute_result"
    }
   ],
   "source": [
    "X = df.AllText\n",
    "y = df.viral_num\n",
    "# instantiate the vectorizer\n",
    "from sklearn.feature_extraction.text import CountVectorizer\n",
    "vect = CountVectorizer(max_df=0.1)\n",
    "df.head()"
   ]
  },
  {
   "cell_type": "code",
   "execution_count": 115,
   "metadata": {
    "collapsed": false
   },
   "outputs": [
    {
     "data": {
      "text/html": [
       "<div>\n",
       "<table border=\"1\" class=\"dataframe\">\n",
       "  <thead>\n",
       "    <tr style=\"text-align: right;\">\n",
       "      <th></th>\n",
       "      <th>id</th>\n",
       "      <th>pull_cc</th>\n",
       "      <th>cc</th>\n",
       "      <th>freq</th>\n",
       "      <th>impressions</th>\n",
       "      <th>descr</th>\n",
       "      <th>cat</th>\n",
       "      <th>title</th>\n",
       "      <th>metav</th>\n",
       "      <th>primary_kw</th>\n",
       "      <th>tags</th>\n",
       "      <th>AllText</th>\n",
       "      <th>Log</th>\n",
       "      <th>viral</th>\n",
       "      <th>viral_num</th>\n",
       "    </tr>\n",
       "  </thead>\n",
       "  <tbody>\n",
       "    <tr>\n",
       "      <th>14292</th>\n",
       "      <td>4267490</td>\n",
       "      <td>us</td>\n",
       "      <td>en-us</td>\n",
       "      <td>240</td>\n",
       "      <td>16919616</td>\n",
       "      <td>A former Stanford swimmer who sexually assault...</td>\n",
       "      <td>USNews</td>\n",
       "      <td>Here's The Powerful Letter The Stanford Victim...</td>\n",
       "      <td>news</td>\n",
       "      <td>campus sexual assault</td>\n",
       "      <td>stanford university</td>\n",
       "      <td>en-us A former Stanford swimmer who sexually a...</td>\n",
       "      <td>21.953300</td>\n",
       "      <td>3buzz</td>\n",
       "      <td>3</td>\n",
       "    </tr>\n",
       "    <tr>\n",
       "      <th>14293</th>\n",
       "      <td>4267490</td>\n",
       "      <td>uk</td>\n",
       "      <td>en-us</td>\n",
       "      <td>242</td>\n",
       "      <td>17616881</td>\n",
       "      <td>A former Stanford swimmer who sexually assault...</td>\n",
       "      <td>USNews</td>\n",
       "      <td>Here's The Powerful Letter The Stanford Victim...</td>\n",
       "      <td>news</td>\n",
       "      <td>campus sexual assault</td>\n",
       "      <td>stanford university</td>\n",
       "      <td>en-us A former Stanford swimmer who sexually a...</td>\n",
       "      <td>22.023534</td>\n",
       "      <td>3buzz</td>\n",
       "      <td>3</td>\n",
       "    </tr>\n",
       "    <tr>\n",
       "      <th>14294</th>\n",
       "      <td>4267490</td>\n",
       "      <td>ca</td>\n",
       "      <td>en-us</td>\n",
       "      <td>244</td>\n",
       "      <td>17497742</td>\n",
       "      <td>A former Stanford swimmer who sexually assault...</td>\n",
       "      <td>USNews</td>\n",
       "      <td>Here's The Powerful Letter The Stanford Victim...</td>\n",
       "      <td>news</td>\n",
       "      <td>campus sexual assault</td>\n",
       "      <td>stanford university</td>\n",
       "      <td>en-us A former Stanford swimmer who sexually a...</td>\n",
       "      <td>22.025619</td>\n",
       "      <td>3buzz</td>\n",
       "      <td>3</td>\n",
       "    </tr>\n",
       "    <tr>\n",
       "      <th>14295</th>\n",
       "      <td>4209250</td>\n",
       "      <td>au</td>\n",
       "      <td>en-au</td>\n",
       "      <td>274</td>\n",
       "      <td>257463</td>\n",
       "      <td>A definitive ranking of our dirtiest words.</td>\n",
       "      <td>Australia</td>\n",
       "      <td>The 100 Rudest Fucking Things Australians Say</td>\n",
       "      <td>None</td>\n",
       "      <td>Australia</td>\n",
       "      <td>arse over tit arsewipe bloody hell bloody wank...</td>\n",
       "      <td>en-au A definitive ranking of our dirtiest wor...</td>\n",
       "      <td>16.106259</td>\n",
       "      <td>3buzz</td>\n",
       "      <td>3</td>\n",
       "    </tr>\n",
       "    <tr>\n",
       "      <th>14296</th>\n",
       "      <td>4206100</td>\n",
       "      <td>in</td>\n",
       "      <td>en-uk</td>\n",
       "      <td>336</td>\n",
       "      <td>1329315</td>\n",
       "      <td>Don't worry, you won't need to know Chandler B...</td>\n",
       "      <td>UK</td>\n",
       "      <td>Only A True \"Friends\" Fan Can Get More Than 15...</td>\n",
       "      <td>None</td>\n",
       "      <td>friends</td>\n",
       "      <td>courtney cox david schwimmer Friends quiz frie...</td>\n",
       "      <td>en-uk Don't worry, you won't need to know Chan...</td>\n",
       "      <td>18.768786</td>\n",
       "      <td>3buzz</td>\n",
       "      <td>3</td>\n",
       "    </tr>\n",
       "  </tbody>\n",
       "</table>\n",
       "</div>"
      ],
      "text/plain": [
       "            id pull_cc     cc  freq  impressions  \\\n",
       "14292  4267490      us  en-us   240     16919616   \n",
       "14293  4267490      uk  en-us   242     17616881   \n",
       "14294  4267490      ca  en-us   244     17497742   \n",
       "14295  4209250      au  en-au   274       257463   \n",
       "14296  4206100      in  en-uk   336      1329315   \n",
       "\n",
       "                                                   descr        cat  \\\n",
       "14292  A former Stanford swimmer who sexually assault...     USNews   \n",
       "14293  A former Stanford swimmer who sexually assault...     USNews   \n",
       "14294  A former Stanford swimmer who sexually assault...     USNews   \n",
       "14295        A definitive ranking of our dirtiest words.  Australia   \n",
       "14296  Don't worry, you won't need to know Chandler B...         UK   \n",
       "\n",
       "                                                   title metav  \\\n",
       "14292  Here's The Powerful Letter The Stanford Victim...  news   \n",
       "14293  Here's The Powerful Letter The Stanford Victim...  news   \n",
       "14294  Here's The Powerful Letter The Stanford Victim...  news   \n",
       "14295      The 100 Rudest Fucking Things Australians Say  None   \n",
       "14296  Only A True \"Friends\" Fan Can Get More Than 15...  None   \n",
       "\n",
       "                  primary_kw  \\\n",
       "14292  campus sexual assault   \n",
       "14293  campus sexual assault   \n",
       "14294  campus sexual assault   \n",
       "14295              Australia   \n",
       "14296                friends   \n",
       "\n",
       "                                                    tags  \\\n",
       "14292                                stanford university   \n",
       "14293                                stanford university   \n",
       "14294                                stanford university   \n",
       "14295  arse over tit arsewipe bloody hell bloody wank...   \n",
       "14296  courtney cox david schwimmer Friends quiz frie...   \n",
       "\n",
       "                                                 AllText        Log  viral  \\\n",
       "14292  en-us A former Stanford swimmer who sexually a...  21.953300  3buzz   \n",
       "14293  en-us A former Stanford swimmer who sexually a...  22.023534  3buzz   \n",
       "14294  en-us A former Stanford swimmer who sexually a...  22.025619  3buzz   \n",
       "14295  en-au A definitive ranking of our dirtiest wor...  16.106259  3buzz   \n",
       "14296  en-uk Don't worry, you won't need to know Chan...  18.768786  3buzz   \n",
       "\n",
       "       viral_num  \n",
       "14292          3  \n",
       "14293          3  \n",
       "14294          3  \n",
       "14295          3  \n",
       "14296          3  "
      ]
     },
     "execution_count": 115,
     "metadata": {},
     "output_type": "execute_result"
    }
   ],
   "source": [
    "df.tail()"
   ]
  },
  {
   "cell_type": "code",
   "execution_count": 116,
   "metadata": {
    "collapsed": false
   },
   "outputs": [
    {
     "data": {
      "text/plain": [
       "[('countvectorizer',\n",
       "  CountVectorizer(analyzer=u'word', binary=False, decode_error=u'strict',\n",
       "          dtype=<type 'numpy.int64'>, encoding=u'utf-8', input=u'content',\n",
       "          lowercase=True, max_df=0.1, max_features=None, min_df=1,\n",
       "          ngram_range=(1, 1), preprocessor=None, stop_words=None,\n",
       "          strip_accents=None, token_pattern=u'(?u)\\\\b\\\\w\\\\w+\\\\b',\n",
       "          tokenizer=None, vocabulary=None)),\n",
       " ('multinomialnb', MultinomialNB(alpha=1.0, class_prior=None, fit_prior=True))]"
      ]
     },
     "execution_count": 116,
     "metadata": {},
     "output_type": "execute_result"
    }
   ],
   "source": [
    "# import and instantiate a Multinomial Naive Bayes model\n",
    "from sklearn.naive_bayes import MultinomialNB\n",
    "nb = MultinomialNB()\n",
    "\n",
    "from sklearn.pipeline import make_pipeline\n",
    "pipe=make_pipeline(vect, nb)\n",
    "pipe.steps"
   ]
  },
  {
   "cell_type": "code",
   "execution_count": 117,
   "metadata": {
    "collapsed": false
   },
   "outputs": [
    {
     "data": {
      "text/plain": [
       "0.82981844975972141"
      ]
     },
     "execution_count": 117,
     "metadata": {},
     "output_type": "execute_result"
    }
   ],
   "source": [
    "# calculate accuracy of class predictions\n",
    "from sklearn.cross_validation import cross_val_score\n",
    "cross_val_score(pipe,X,y,cv=12,scoring='accuracy').mean()"
   ]
  },
  {
   "cell_type": "code",
   "execution_count": 118,
   "metadata": {
    "collapsed": false
   },
   "outputs": [
    {
     "data": {
      "text/plain": [
       "[('countvectorizer',\n",
       "  CountVectorizer(analyzer=u'word', binary=False, decode_error=u'strict',\n",
       "          dtype=<type 'numpy.int64'>, encoding=u'utf-8', input=u'content',\n",
       "          lowercase=True, max_df=0.1, max_features=None, min_df=1,\n",
       "          ngram_range=(1, 1), preprocessor=None, stop_words=None,\n",
       "          strip_accents=None, token_pattern=u'(?u)\\\\b\\\\w\\\\w+\\\\b',\n",
       "          tokenizer=None, vocabulary=None)),\n",
       " ('logisticregression',\n",
       "  LogisticRegression(C=1.0, class_weight=None, dual=False, fit_intercept=True,\n",
       "            intercept_scaling=1, max_iter=100, multi_class='ovr', n_jobs=1,\n",
       "            penalty='l2', random_state=None, solver='liblinear', tol=0.0001,\n",
       "            verbose=0, warm_start=False))]"
      ]
     },
     "execution_count": 118,
     "metadata": {},
     "output_type": "execute_result"
    }
   ],
   "source": [
    "# import and instantiate a Logistic Regression model\n",
    "from sklearn.linear_model import LogisticRegression\n",
    "logreg = LogisticRegression()\n",
    "\n",
    "from sklearn.pipeline import make_pipeline\n",
    "pipe=make_pipeline(vect, logreg)\n",
    "pipe.steps"
   ]
  },
  {
   "cell_type": "code",
   "execution_count": 119,
   "metadata": {
    "collapsed": false
   },
   "outputs": [
    {
     "data": {
      "text/plain": [
       "0.87968707842769478"
      ]
     },
     "execution_count": 119,
     "metadata": {},
     "output_type": "execute_result"
    }
   ],
   "source": [
    "# calculate accuracy of class predictions\n",
    "cross_val_score(pipe,X,y,cv=12,scoring='accuracy').mean()"
   ]
  },
  {
   "cell_type": "code",
   "execution_count": 120,
   "metadata": {
    "collapsed": false
   },
   "outputs": [
    {
     "data": {
      "text/plain": [
       "5.1547876444580458"
      ]
     },
     "execution_count": 120,
     "metadata": {},
     "output_type": "execute_result"
    }
   ],
   "source": [
    "data_mean-1.5*data_std"
   ]
  },
  {
   "cell_type": "code",
   "execution_count": 121,
   "metadata": {
    "collapsed": false
   },
   "outputs": [
    {
     "data": {
      "text/plain": [
       "14.803347038439068"
      ]
     },
     "execution_count": 121,
     "metadata": {},
     "output_type": "execute_result"
    }
   ],
   "source": [
    "data_mean+1.5*data_std"
   ]
  },
  {
   "cell_type": "code",
   "execution_count": 122,
   "metadata": {
    "collapsed": false
   },
   "outputs": [
    {
     "name": "stdout",
     "output_type": "stream",
     "text": [
      "9.97906734145\n",
      "3.21618646466\n"
     ]
    }
   ],
   "source": [
    "print data_mean\n",
    "print data_std"
   ]
  },
  {
   "cell_type": "code",
   "execution_count": 123,
   "metadata": {
    "collapsed": false
   },
   "outputs": [
    {
     "data": {
      "text/plain": [
       "(14297, 15)"
      ]
     },
     "execution_count": 123,
     "metadata": {},
     "output_type": "execute_result"
    }
   ],
   "source": [
    "df.shape"
   ]
  },
  {
   "cell_type": "code",
   "execution_count": 124,
   "metadata": {
    "collapsed": false
   },
   "outputs": [
    {
     "data": {
      "text/plain": [
       "2buzz    12382\n",
       "1buzz     1003\n",
       "3buzz      912\n",
       "Name: viral, dtype: int64"
      ]
     },
     "execution_count": 124,
     "metadata": {},
     "output_type": "execute_result"
    }
   ],
   "source": [
    "df.viral.value_counts()"
   ]
  },
  {
   "cell_type": "code",
   "execution_count": null,
   "metadata": {
    "collapsed": true
   },
   "outputs": [],
   "source": []
  }
 ],
 "metadata": {
  "kernelspec": {
   "display_name": "Python 2",
   "language": "python",
   "name": "python2"
  },
  "language_info": {
   "codemirror_mode": {
    "name": "ipython",
    "version": 2
   },
   "file_extension": ".py",
   "mimetype": "text/x-python",
   "name": "python",
   "nbconvert_exporter": "python",
   "pygments_lexer": "ipython2",
   "version": "2.7.10"
  }
 },
 "nbformat": 4,
 "nbformat_minor": 0
}
