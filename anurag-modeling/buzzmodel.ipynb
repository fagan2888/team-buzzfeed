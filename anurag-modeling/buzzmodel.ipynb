{
 "cells": [
  {
   "cell_type": "code",
   "execution_count": 1,
   "metadata": {
    "collapsed": true
   },
   "outputs": [],
   "source": [
    "import os\n",
    "import json\n",
    "import time\n",
    "import pickle\n",
    "import requests\n",
    "import math\n",
    "\n",
    "\n",
    "import numpy as np\n",
    "import pandas as pd\n",
    "import matplotlib.pyplot as plt"
   ]
  },
  {
   "cell_type": "code",
   "execution_count": 2,
   "metadata": {
    "collapsed": false
   },
   "outputs": [],
   "source": [
    "df = pd.DataFrame()\n",
    "df = pd.read_csv('may_june_july.csv', delimiter=\"|\")\n"
   ]
  },
  {
   "cell_type": "code",
   "execution_count": 3,
   "metadata": {
    "collapsed": false
   },
   "outputs": [],
   "source": [
    "# Combine all text \n",
    "df['tags'] = df['descr'] + \" \" + df[\"title\"] + \" \" + df[\"cat\"]+ \" \" + df[\"primary_kw\"]+ \" \" + df[\"tags\"] + \" \" + df[\"cat\"] \n",
    "# Drop unneeded columns\n",
    "df.drop('id', axis=1, inplace=True)\n",
    "df.drop('pull_cc', axis=1, inplace=True)\n",
    "df.drop('cc', axis=1, inplace=True)\n",
    "df.drop('metav', axis=1, inplace=True)\n",
    "df.drop('descr', axis=1, inplace=True)\n",
    "df.drop('title', axis=1, inplace=True)\n",
    "df.drop('primary_kw', axis=1, inplace=True)\n",
    "df.drop('cat', axis=1, inplace=True)"
   ]
  },
  {
   "cell_type": "code",
   "execution_count": 4,
   "metadata": {
    "collapsed": false
   },
   "outputs": [],
   "source": [
    "# NORMALIZE TO LOG DISTRIBUTION\n",
    "# Compute Log (freq*impressions/1000)\n",
    "# Add log column\n",
    "df['Log'] = df['freq']*df['impressions']/1000\n",
    "\n",
    "for i, row in df.iterrows():\n",
    "    cv = math.log(df.iloc[i,3],2)\n",
    "    df.set_value(i,'Log',cv)\n",
    "\n",
    "# Drop unneeded column\n",
    "df.drop('freq', axis=1, inplace=True)\n",
    "df.drop('impressions', axis=1, inplace=True)"
   ]
  },
  {
   "cell_type": "code",
   "execution_count": 5,
   "metadata": {
    "collapsed": false
   },
   "outputs": [
    {
     "data": {
      "text/plain": [
       "9.9790022939737302"
      ]
     },
     "execution_count": 5,
     "metadata": {},
     "output_type": "execute_result"
    }
   ],
   "source": [
    "data_mean = df[\"Log\"].mean()\n",
    "data_mean"
   ]
  },
  {
   "cell_type": "code",
   "execution_count": 6,
   "metadata": {
    "collapsed": false
   },
   "outputs": [
    {
     "data": {
      "text/plain": [
       "3.2162998239509824"
      ]
     },
     "execution_count": 6,
     "metadata": {},
     "output_type": "execute_result"
    }
   ],
   "source": [
    "data_std = df[\"Log\"].std()\n",
    "data_std"
   ]
  },
  {
   "cell_type": "code",
   "execution_count": null,
   "metadata": {
    "collapsed": false
   },
   "outputs": [],
   "source": [
    "#plt.hist(df[\"Log\"])\n",
    "#plt.show()"
   ]
  },
  {
   "cell_type": "code",
   "execution_count": 7,
   "metadata": {
    "collapsed": false
   },
   "outputs": [
    {
     "data": {
      "text/html": [
       "<div>\n",
       "<table border=\"1\" class=\"dataframe\">\n",
       "  <thead>\n",
       "    <tr style=\"text-align: right;\">\n",
       "      <th></th>\n",
       "      <th>tags</th>\n",
       "      <th>viral</th>\n",
       "      <th>viral_num</th>\n",
       "    </tr>\n",
       "  </thead>\n",
       "  <tbody>\n",
       "    <tr>\n",
       "      <th>0</th>\n",
       "      <td>Giant man with tiny dog alert! The Mountain Fr...</td>\n",
       "      <td>notviral</td>\n",
       "      <td>0</td>\n",
       "    </tr>\n",
       "    <tr>\n",
       "      <th>1</th>\n",
       "      <td>FYI: Ice cream sandwiches &amp;gt; all other sandw...</td>\n",
       "      <td>notviral</td>\n",
       "      <td>0</td>\n",
       "    </tr>\n",
       "    <tr>\n",
       "      <th>2</th>\n",
       "      <td>\"My mama always said you can tell a lot about ...</td>\n",
       "      <td>notviral</td>\n",
       "      <td>0</td>\n",
       "    </tr>\n",
       "    <tr>\n",
       "      <th>3</th>\n",
       "      <td>Let's see if you're a true cheese whiz. Can Yo...</td>\n",
       "      <td>notviral</td>\n",
       "      <td>0</td>\n",
       "    </tr>\n",
       "    <tr>\n",
       "      <th>4</th>\n",
       "      <td>The EPA just released first-time guidelines on...</td>\n",
       "      <td>notviral</td>\n",
       "      <td>0</td>\n",
       "    </tr>\n",
       "  </tbody>\n",
       "</table>\n",
       "</div>"
      ],
      "text/plain": [
       "                                                tags     viral  viral_num\n",
       "0  Giant man with tiny dog alert! The Mountain Fr...  notviral          0\n",
       "1  FYI: Ice cream sandwiches &gt; all other sandw...  notviral          0\n",
       "2  \"My mama always said you can tell a lot about ...  notviral          0\n",
       "3  Let's see if you're a true cheese whiz. Can Yo...  notviral          0\n",
       "4  The EPA just released first-time guidelines on...  notviral          0"
      ]
     },
     "execution_count": 7,
     "metadata": {},
     "output_type": "execute_result"
    }
   ],
   "source": [
    "# Virality defined as -1 sigma from mean\n",
    "df['viral'] = np.where(df['Log']<data_mean-data_std, 'notviral', 'viral')\n",
    "df['viral_num'] = df.viral.map({'notviral':0, 'viral':1})\n",
    "df.drop('Log', axis=1, inplace=True)\n",
    "df.head()"
   ]
  },
  {
   "cell_type": "code",
   "execution_count": 8,
   "metadata": {
    "collapsed": true
   },
   "outputs": [],
   "source": [
    "df['tags'].fillna('a', inplace=True)"
   ]
  },
  {
   "cell_type": "code",
   "execution_count": 9,
   "metadata": {
    "collapsed": false
   },
   "outputs": [
    {
     "data": {
      "text/html": [
       "<div>\n",
       "<table border=\"1\" class=\"dataframe\">\n",
       "  <thead>\n",
       "    <tr style=\"text-align: right;\">\n",
       "      <th></th>\n",
       "      <th>tags</th>\n",
       "      <th>viral</th>\n",
       "      <th>viral_num</th>\n",
       "    </tr>\n",
       "  </thead>\n",
       "  <tbody>\n",
       "    <tr>\n",
       "      <th>14292</th>\n",
       "      <td>A former Stanford swimmer who sexually assault...</td>\n",
       "      <td>viral</td>\n",
       "      <td>1</td>\n",
       "    </tr>\n",
       "    <tr>\n",
       "      <th>14293</th>\n",
       "      <td>A former Stanford swimmer who sexually assault...</td>\n",
       "      <td>viral</td>\n",
       "      <td>1</td>\n",
       "    </tr>\n",
       "    <tr>\n",
       "      <th>14294</th>\n",
       "      <td>A former Stanford swimmer who sexually assault...</td>\n",
       "      <td>viral</td>\n",
       "      <td>1</td>\n",
       "    </tr>\n",
       "    <tr>\n",
       "      <th>14295</th>\n",
       "      <td>A definitive ranking of our dirtiest words. Th...</td>\n",
       "      <td>viral</td>\n",
       "      <td>1</td>\n",
       "    </tr>\n",
       "    <tr>\n",
       "      <th>14296</th>\n",
       "      <td>Don't worry, you won't need to know Chandler B...</td>\n",
       "      <td>viral</td>\n",
       "      <td>1</td>\n",
       "    </tr>\n",
       "  </tbody>\n",
       "</table>\n",
       "</div>"
      ],
      "text/plain": [
       "                                                    tags  viral  viral_num\n",
       "14292  A former Stanford swimmer who sexually assault...  viral          1\n",
       "14293  A former Stanford swimmer who sexually assault...  viral          1\n",
       "14294  A former Stanford swimmer who sexually assault...  viral          1\n",
       "14295  A definitive ranking of our dirtiest words. Th...  viral          1\n",
       "14296  Don't worry, you won't need to know Chandler B...  viral          1"
      ]
     },
     "execution_count": 9,
     "metadata": {},
     "output_type": "execute_result"
    }
   ],
   "source": [
    "df.tail()"
   ]
  },
  {
   "cell_type": "code",
   "execution_count": 10,
   "metadata": {
    "collapsed": false
   },
   "outputs": [
    {
     "data": {
      "text/plain": [
       "(14297, 3)"
      ]
     },
     "execution_count": 10,
     "metadata": {},
     "output_type": "execute_result"
    }
   ],
   "source": [
    "df.shape"
   ]
  },
  {
   "cell_type": "code",
   "execution_count": 11,
   "metadata": {
    "collapsed": false
   },
   "outputs": [
    {
     "data": {
      "text/plain": [
       "viral       11862\n",
       "notviral     2435\n",
       "Name: viral, dtype: int64"
      ]
     },
     "execution_count": 11,
     "metadata": {},
     "output_type": "execute_result"
    }
   ],
   "source": [
    "df.viral.value_counts()"
   ]
  },
  {
   "cell_type": "code",
   "execution_count": 12,
   "metadata": {
    "collapsed": false
   },
   "outputs": [
    {
     "name": "stdout",
     "output_type": "stream",
     "text": [
      "(14297,)\n",
      "(14297,)\n"
     ]
    }
   ],
   "source": [
    "X = df.tags\n",
    "y = df.viral_num\n",
    "print(X.shape)\n",
    "print(y.shape)"
   ]
  },
  {
   "cell_type": "code",
   "execution_count": 13,
   "metadata": {
    "collapsed": false
   },
   "outputs": [
    {
     "data": {
      "text/plain": [
       "0    Giant man with tiny dog alert! The Mountain Fr...\n",
       "1    FYI: Ice cream sandwiches &gt; all other sandw...\n",
       "2    \"My mama always said you can tell a lot about ...\n",
       "3    Let's see if you're a true cheese whiz. Can Yo...\n",
       "4    The EPA just released first-time guidelines on...\n",
       "Name: tags, dtype: object"
      ]
     },
     "execution_count": 13,
     "metadata": {},
     "output_type": "execute_result"
    }
   ],
   "source": [
    "X.head()"
   ]
  },
  {
   "cell_type": "code",
   "execution_count": 14,
   "metadata": {
    "collapsed": false
   },
   "outputs": [
    {
     "data": {
      "text/plain": [
       "0    0\n",
       "1    0\n",
       "2    0\n",
       "3    0\n",
       "4    0\n",
       "Name: viral_num, dtype: int64"
      ]
     },
     "execution_count": 14,
     "metadata": {},
     "output_type": "execute_result"
    }
   ],
   "source": [
    "y.head()"
   ]
  },
  {
   "cell_type": "code",
   "execution_count": 15,
   "metadata": {
    "collapsed": false
   },
   "outputs": [
    {
     "name": "stdout",
     "output_type": "stream",
     "text": [
      "(10722,)\n",
      "(3575,)\n",
      "(10722,)\n",
      "(3575,)\n"
     ]
    }
   ],
   "source": [
    "# split X and y into training and testing sets\n",
    "from sklearn.cross_validation import train_test_split\n",
    "X_train, X_test, y_train, y_test = train_test_split(X, y, random_state=1)\n",
    "print(X_train.shape)\n",
    "print(X_test.shape)\n",
    "print(y_train.shape)\n",
    "print(y_test.shape)"
   ]
  },
  {
   "cell_type": "code",
   "execution_count": 16,
   "metadata": {
    "collapsed": false
   },
   "outputs": [],
   "source": [
    "# instantiate the vectorizer\n",
    "from sklearn.feature_extraction.text import CountVectorizer\n",
    "vect = CountVectorizer()"
   ]
  },
  {
   "cell_type": "code",
   "execution_count": 17,
   "metadata": {
    "collapsed": false
   },
   "outputs": [
    {
     "data": {
      "text/plain": [
       "CountVectorizer(analyzer='word', binary=False, decode_error='strict',\n",
       "        dtype=<class 'numpy.int64'>, encoding='utf-8', input='content',\n",
       "        lowercase=True, max_df=1.0, max_features=None, min_df=1,\n",
       "        ngram_range=(1, 1), preprocessor=None, stop_words=None,\n",
       "        strip_accents=None, token_pattern='(?u)\\\\b\\\\w\\\\w+\\\\b',\n",
       "        tokenizer=None, vocabulary=None)"
      ]
     },
     "execution_count": 17,
     "metadata": {},
     "output_type": "execute_result"
    }
   ],
   "source": [
    "vect"
   ]
  },
  {
   "cell_type": "code",
   "execution_count": 18,
   "metadata": {
    "collapsed": false
   },
   "outputs": [],
   "source": [
    "# learn training data vocabulary, then use it to create a document-term matrix\n",
    "# FOLLOWING CAN BE DONE IN SINGLE STEP:  X_train_dtm = vect.fit_transform(X_train)\n",
    "vect.fit(X_train)\n",
    "X_train_dtm = vect.transform(X_train)"
   ]
  },
  {
   "cell_type": "code",
   "execution_count": 19,
   "metadata": {
    "collapsed": false
   },
   "outputs": [
    {
     "data": {
      "text/plain": [
       "<10722x15480 sparse matrix of type '<class 'numpy.int64'>'\n",
       "\twith 266669 stored elements in Compressed Sparse Row format>"
      ]
     },
     "execution_count": 19,
     "metadata": {},
     "output_type": "execute_result"
    }
   ],
   "source": [
    "X_train_dtm"
   ]
  },
  {
   "cell_type": "code",
   "execution_count": 20,
   "metadata": {
    "collapsed": false
   },
   "outputs": [
    {
     "data": {
      "text/plain": [
       "<3575x15480 sparse matrix of type '<class 'numpy.int64'>'\n",
       "\twith 87915 stored elements in Compressed Sparse Row format>"
      ]
     },
     "execution_count": 20,
     "metadata": {},
     "output_type": "execute_result"
    }
   ],
   "source": [
    "# transform testing data (using fitted vocabulary) into a document-term matrix\n",
    "X_test_dtm = vect.transform(X_test)\n",
    "X_test_dtm"
   ]
  },
  {
   "cell_type": "code",
   "execution_count": 21,
   "metadata": {
    "collapsed": true
   },
   "outputs": [],
   "source": [
    "# import and instantiate a Multinomial Naive Bayes model\n",
    "from sklearn.naive_bayes import MultinomialNB\n",
    "nb = MultinomialNB()"
   ]
  },
  {
   "cell_type": "code",
   "execution_count": 22,
   "metadata": {
    "collapsed": false
   },
   "outputs": [
    {
     "name": "stdout",
     "output_type": "stream",
     "text": [
      "CPU times: user 6.22 ms, sys: 2.75 ms, total: 8.98 ms\n",
      "Wall time: 8.08 ms\n"
     ]
    },
    {
     "data": {
      "text/plain": [
       "MultinomialNB(alpha=1.0, class_prior=None, fit_prior=True)"
      ]
     },
     "execution_count": 22,
     "metadata": {},
     "output_type": "execute_result"
    }
   ],
   "source": [
    "# train the model using X_train_dtm (timing it with an IPython \"magic command\")\n",
    "%time nb.fit(X_train_dtm, y_train)"
   ]
  },
  {
   "cell_type": "code",
   "execution_count": 23,
   "metadata": {
    "collapsed": true
   },
   "outputs": [],
   "source": [
    "# make class predictions for X_test_dtm\n",
    "y_pred_class = nb.predict(X_test_dtm)"
   ]
  },
  {
   "cell_type": "code",
   "execution_count": 24,
   "metadata": {
    "collapsed": false
   },
   "outputs": [
    {
     "data": {
      "text/plain": [
       "0.81034965034965034"
      ]
     },
     "execution_count": 24,
     "metadata": {},
     "output_type": "execute_result"
    }
   ],
   "source": [
    "# calculate accuracy of class predictions\n",
    "from sklearn import metrics\n",
    "metrics.accuracy_score(y_test, y_pred_class)"
   ]
  },
  {
   "cell_type": "code",
   "execution_count": 25,
   "metadata": {
    "collapsed": false
   },
   "outputs": [
    {
     "data": {
      "text/plain": [
       "array([[ 202,  421],\n",
       "       [ 257, 2695]])"
      ]
     },
     "execution_count": 25,
     "metadata": {},
     "output_type": "execute_result"
    }
   ],
   "source": [
    "# print the confusion matrix\n",
    "metrics.confusion_matrix(y_test, y_pred_class)"
   ]
  },
  {
   "cell_type": "code",
   "execution_count": 26,
   "metadata": {
    "collapsed": false
   },
   "outputs": [
    {
     "data": {
      "text/plain": [
       "2356     So much fierce, so little time. Here's What A ...\n",
       "4046     Robert Czegely has been accused of \"gross misc...\n",
       "3116     Put your JT fandom to the test. Are These Nsyn...\n",
       "1790     Do you read bad drawings? Can You Identify The...\n",
       "4015     **prays for ninth movie** Daniel Radcliffe Has...\n",
       "1094     Hold the door. 53 Thoughts I Had Watching Seas...\n",
       "3807     Three of the former Libyan dictator s top offi...\n",
       "153      Seven police officers and two civilians were h...\n",
       "2410     Tiny home, big clean. 28 Clever Ways To Deep C...\n",
       "2813     Today's characters: the Malfoys. Here Are The ...\n",
       "4781     <b>These big rocks in the desert will blow you...\n",
       "3312     For when you want a little bit of ~everything....\n",
       "10363    Yes, I want my house to smell like fairy bread...\n",
       "3895     \"Next week will see the debut of Hodor's cousi...\n",
       "4290     Some Bernie-or-Busters protested Clinton's spe...\n",
       "1401     Underrated is an UNDERstatement. It's Time To ...\n",
       "11347    Put all those geography classes to the test. C...\n",
       "1578                                                     a\n",
       "994      <b>I got 99 problems, and Twitter spoilers are...\n",
       "897      Spreadin' barks and smiles! 19 Excited Dogs Ju...\n",
       "1156     Milk and cereal are a union that must not be b...\n",
       "2515     <b>From Fred Lyon's <a rel=\"nofollow\" href=\"ht...\n",
       "2230     Talk to the hand 'cause the face ain't listeni...\n",
       "4177     <b>Because the people deserve to know!</b> 10 ...\n",
       "3832     \"Do you know how many basic bitches would kill...\n",
       "2364     ALL THE EMOTIONS! Here's What Happens When You...\n",
       "1890     \"Thank you Nintendo!!!\" Pok mon Go Is Helping ...\n",
       "335      The joke is that it's not. Chrissy Teigen Twee...\n",
       "793      The ugly babies know. What Does Your Choice Of...\n",
       "6420     Life? Shout? Bliss? Khode? I don't even know a...\n",
       "                               ...                        \n",
       "1989     \"NO, NOT DRAGONS. FUCK THOSE DRAGONS. FOCUS!!!...\n",
       "1711     And no, this is not just about tofu. 17 Unexpe...\n",
       "354      One of these will <i>really</i> satisfy your s...\n",
       "5792     See if you can make it through the night as on...\n",
       "2977     So much drama. \"Real Housewives Of Beverly Hil...\n",
       "4165     Woodsprites are taking over underground. This ...\n",
       "5385     \"Directions: Pour into an oiled fish mold and ...\n",
       "5338     For when you want a little bit of ~everything....\n",
       "3796     When you start having secret meetings in the t...\n",
       "5332     You spent a hell of a lot of your time on late...\n",
       "5930     \"Arrogant white privileged fools\" A Weatherman...\n",
       "2096     Do you like your sausages in a dog or a roll? ...\n",
       "535      Oh, tartar sauce! 19 Faces From \"SpongeBob Squ...\n",
       "130      It's complicated AF. How Will Brexit Actually ...\n",
       "2490     Scream if you know the answer. Only A Real Hor...\n",
       "1153     <i>Bonne chance!</i> And watch out for those s...\n",
       "2646     Man cannot live on trail mix alone. 29 Camping...\n",
       "6582     Whoever said diamonds needed polish was wrong....\n",
       "597                                                      a\n",
       "5151     Mmmm, the crunch. Buttermilk-Fried Chicken Mak...\n",
       "2477     I used to compare myself to the models in maga...\n",
       "3027     Who stands out the most in a crowd? Can You Pi...\n",
       "4485     A bang for your buck. How Much Do These 9 Sex ...\n",
       "503      *Immediately opens a cat hotel.* 11 Dream Jobs...\n",
       "1687     A tale of chaos and scandal at Day One of the ...\n",
       "1941     This can only mean good things for everyone's ...\n",
       "7857     <b>Warning: partial nudity ahead!</b> Acclaime...\n",
       "830      All men must die. But in what order? Can You A...\n",
       "5776     Screw football, this guy should go to Hogwarts...\n",
       "2922     Who's a good customer service representative? ...\n",
       "Name: tags, dtype: object"
      ]
     },
     "execution_count": 26,
     "metadata": {},
     "output_type": "execute_result"
    }
   ],
   "source": [
    "# print message text for the false positives (non-viral incorrectly classified as viral)\n",
    "X_test[y_test < y_pred_class]"
   ]
  },
  {
   "cell_type": "code",
   "execution_count": 27,
   "metadata": {
    "collapsed": false
   },
   "outputs": [
    {
     "data": {
      "text/plain": [
       "11141    Mmmmmmmmmmmmmmmm. 16 Extremely Satisfying Pict...\n",
       "12571    It wasn't. 17 Things That Will Make Every Indi...\n",
       "5558     \"You're worthy of the last French fry in the b...\n",
       "10655    Worse still, literally no one is surprised. De...\n",
       "14152    In 2016, it takes staggering ignorance to thin...\n",
       "13227    \"I am no longer okay with just being a sidekic...\n",
       "11674    The school has thousands of students, no full-...\n",
       "11436    \"I have always said, I will work after marriag...\n",
       "9034     TL;DR Poo is done with your shit. Kareena Kapo...\n",
       "5811     A hot new type of food stack. People On Instag...\n",
       "1175     Give those old duds new life. 18 No-Sew Ways T...\n",
       "3153     The pound may be weak, but the memes are stron...\n",
       "6004     She was a better Trump than Trump. Meryl Stree...\n",
       "5640     Vote Leave, take back the status quo? Four Bre...\n",
       "8943     \"She just wakes up like that.\" Aishwarya Rai B...\n",
       "11646    Pappis for puppies. 9 Pictures Of Doggies At I...\n",
       "14051    Kya re mamu! Sab changa? Yeh quiz lega kya bhe...\n",
       "8708     The golden age of TV everywhere, tbh. 13 Reaso...\n",
       "12271    That three-day stretch in March when it seems ...\n",
       "8918     Ded. These Photos Of Katrina Kaif In A Really ...\n",
       "5411     The Los Angeles County Sheriff's Department sa...\n",
       "6863     Including face masks, lingerie, dresses, and s...\n",
       "12611    #Blackdegreesmatter 38 Photos Of Black Graduat...\n",
       "8274     Meet Senator-elect Pauline Hanson. Australia's...\n",
       "3400     On Wednesday, the hashtag <a href=\"https://twi...\n",
       "9502     Renuka Chowdhury is a former union minister of...\n",
       "10579    Stop restoring my faith in arranged marriages,...\n",
       "9864     Enrol early. Update often. Stop What You're Do...\n",
       "8157     Baroness Smith, Labour MPs, and even some Tori...\n",
       "4719     UK voters have sent a massive shock through th...\n",
       "                               ...                        \n",
       "9359     The prime minister <a href=\"https://www.buzzfe...\n",
       "2606     Alisha, who was shot multiple times in Peshawa...\n",
       "13720    \"Kids love singing apes.\" Adam Goodes Appeared...\n",
       "4398     Warning: You'll be hearing about this theory f...\n",
       "5518     \"Tanong mo sa mommy mo.\" 18 Sentences All Fili...\n",
       "1885     Gesundheit, doggies. 11 Dogs Caught Midsneeze ...\n",
       "9284     <i>The New European</i>, published 8 July, is ...\n",
       "13273    You're totally doing this. Try Out Your Grill ...\n",
       "10862    Creamy PB? Check. Decadent brownie? Check. Cri...\n",
       "10519    Do these policies belong to Labor, the Greens,...\n",
       "4331     Almost as soothing as eating it. ALMOST. This ...\n",
       "2625     Michael Sandford, a 19-year-old from Dorking i...\n",
       "12879    Could you smash 833 cans a year? Well apparent...\n",
       "12130    I'm taking the rest of the day off. Rahul Khan...\n",
       "14011    \"Fuckin eh it's bout to go downnnn.\" We Ranked...\n",
       "10625    \"I'm bringing them home in a box\". Indigenous ...\n",
       "11239    \"G'day mates!\" Or, nah. Australian Stereotypes...\n",
       "6306     Aliens DO exist, according to the former Blink...\n",
       "8814     \"Freedom of speech di maa di.\" The Censor Boar...\n",
       "11983    Let the stars assign you a soulmate. Which Sou...\n",
       "406      *Mixes them all together* 21 Bartenders Share ...\n",
       "9317     The PERFECT outfit... In theory. \"Dhoti Dungar...\n",
       "9454     He's hiding somewhere in these pictures... but...\n",
       "3358     Will there be a general election? Can there be...\n",
       "9579     \"I hope we'll be having those exchanges over t...\n",
       "5184     \"Oot and aboot.\" 21 Things You'll Never Hear A...\n",
       "6454     <b>Temper your jealousy, teachers.</b> One can...\n",
       "177      Slay, mama. 9 Stunning Eid Outfits That'll Tak...\n",
       "12021    <b>Wear your lit love on your sleeve.</b> 29 B...\n",
       "9875     What was wrong with me? This Is For Everyone W...\n",
       "Name: tags, dtype: object"
      ]
     },
     "execution_count": 27,
     "metadata": {},
     "output_type": "execute_result"
    }
   ],
   "source": [
    "# print message text for the false negatives (Viral incorrectly classified as non-viral)\n",
    "X_test[y_test > y_pred_class]"
   ]
  },
  {
   "cell_type": "code",
   "execution_count": 28,
   "metadata": {
    "collapsed": false
   },
   "outputs": [],
   "source": [
    "# example false negative\n",
    "#X_test[3]"
   ]
  },
  {
   "cell_type": "code",
   "execution_count": 29,
   "metadata": {
    "collapsed": false
   },
   "outputs": [
    {
     "data": {
      "text/plain": [
       "array([ 0.65041721,  0.99980255,  0.9999984 , ...,  0.99999913,\n",
       "        0.99999986,  0.9973585 ])"
      ]
     },
     "execution_count": 29,
     "metadata": {},
     "output_type": "execute_result"
    }
   ],
   "source": [
    "# calculate predicted probabilities for X_test_dtm (poorly calibrated)\n",
    "y_pred_prob = nb.predict_proba(X_test_dtm)[:, 1]\n",
    "y_pred_prob"
   ]
  },
  {
   "cell_type": "code",
   "execution_count": 30,
   "metadata": {
    "collapsed": false
   },
   "outputs": [
    {
     "data": {
      "text/plain": [
       "0.7378497370447219"
      ]
     },
     "execution_count": 30,
     "metadata": {},
     "output_type": "execute_result"
    }
   ],
   "source": [
    "# calculate AUC\n",
    "metrics.roc_auc_score(y_test, y_pred_prob)"
   ]
  },
  {
   "cell_type": "code",
   "execution_count": 31,
   "metadata": {
    "collapsed": true
   },
   "outputs": [],
   "source": [
    "# import and instantiate a logistic regression model\n",
    "from sklearn.linear_model import LogisticRegression\n",
    "logreg = LogisticRegression()"
   ]
  },
  {
   "cell_type": "code",
   "execution_count": null,
   "metadata": {
    "collapsed": false
   },
   "outputs": [],
   "source": [
    "# train the model using X_train_dtm\n",
    "%time logreg.fit(X_train_dtm, y_train)"
   ]
  },
  {
   "cell_type": "code",
   "execution_count": null,
   "metadata": {
    "collapsed": true
   },
   "outputs": [],
   "source": [
    "# make class predictions for X_test_dtm\n",
    "y_pred_class = logreg.predict(X_test_dtm)"
   ]
  },
  {
   "cell_type": "code",
   "execution_count": null,
   "metadata": {
    "collapsed": false
   },
   "outputs": [],
   "source": [
    "# calculate predicted probabilities for X_test_dtm (well calibrated)\n",
    "y_pred_prob = logreg.predict_proba(X_test_dtm)[:, 1]\n",
    "y_pred_prob"
   ]
  },
  {
   "cell_type": "code",
   "execution_count": null,
   "metadata": {
    "collapsed": false
   },
   "outputs": [],
   "source": [
    "# calculate accuracy\n",
    "metrics.accuracy_score(y_test, y_pred_class)"
   ]
  },
  {
   "cell_type": "code",
   "execution_count": null,
   "metadata": {
    "collapsed": false
   },
   "outputs": [],
   "source": [
    "# calculate AUC\n",
    "metrics.roc_auc_score(y_test, y_pred_prob)"
   ]
  },
  {
   "cell_type": "code",
   "execution_count": null,
   "metadata": {
    "collapsed": false
   },
   "outputs": [],
   "source": [
    "# store the vocabulary of X_train\n",
    "X_train_tokens = vect.get_feature_names()\n",
    "len(X_train_tokens)"
   ]
  },
  {
   "cell_type": "code",
   "execution_count": null,
   "metadata": {
    "collapsed": false
   },
   "outputs": [],
   "source": [
    "# examine the first 50 tokens\n",
    "print(X_train_tokens[0:50])"
   ]
  },
  {
   "cell_type": "code",
   "execution_count": null,
   "metadata": {
    "collapsed": false
   },
   "outputs": [],
   "source": [
    "# examine the last 50 tokens\n",
    "print(X_train_tokens[-50:])"
   ]
  },
  {
   "cell_type": "code",
   "execution_count": null,
   "metadata": {
    "collapsed": false
   },
   "outputs": [],
   "source": [
    "# Naive Bayes counts the number of times each token appears in each class\n",
    "nb.feature_count_"
   ]
  },
  {
   "cell_type": "code",
   "execution_count": null,
   "metadata": {
    "collapsed": false
   },
   "outputs": [],
   "source": [
    "# rows represent classes, columns represent tokens\n",
    "nb.feature_count_.shape"
   ]
  },
  {
   "cell_type": "code",
   "execution_count": null,
   "metadata": {
    "collapsed": false
   },
   "outputs": [],
   "source": [
    "# number of times each token appears across all Non-viral Buzzes\n",
    "non_viral_token_count = nb.feature_count_[0, :]\n",
    "non_viral_token_count"
   ]
  },
  {
   "cell_type": "code",
   "execution_count": null,
   "metadata": {
    "collapsed": false
   },
   "outputs": [],
   "source": [
    "# number of times each token appears across all Viral Buzzes\n",
    "viral_token_count = nb.feature_count_[1, :]\n",
    "viral_token_count"
   ]
  },
  {
   "cell_type": "code",
   "execution_count": null,
   "metadata": {
    "collapsed": false
   },
   "outputs": [],
   "source": [
    "# create a DataFrame of tokens with their separate non-viral and viral counts\n",
    "tokens = pd.DataFrame({'token':X_train_tokens, 'non_viral':non_viral_token_count, 'viral':viral_token_count}).set_index('token')\n",
    "tokens.head()"
   ]
  },
  {
   "cell_type": "code",
   "execution_count": null,
   "metadata": {
    "collapsed": false
   },
   "outputs": [],
   "source": [
    "# examine 5 random DataFrame rows\n",
    "tokens.sample(20, random_state=6)"
   ]
  },
  {
   "cell_type": "code",
   "execution_count": null,
   "metadata": {
    "collapsed": false
   },
   "outputs": [],
   "source": [
    "# Naive Bayes counts the number of observations in each class\n",
    "nb.class_count_"
   ]
  },
  {
   "cell_type": "code",
   "execution_count": null,
   "metadata": {
    "collapsed": false
   },
   "outputs": [],
   "source": [
    "# add 1 to non-viral and viral counts to avoid dividing by 0\n",
    "tokens['non_viral'] = tokens.non_viral + 1\n",
    "tokens['viral'] = tokens.viral + 1\n",
    "tokens.sample(5, random_state=6)"
   ]
  },
  {
   "cell_type": "code",
   "execution_count": null,
   "metadata": {
    "collapsed": false
   },
   "outputs": [],
   "source": [
    "# convert the non-viral and viral counts into frequencies\n",
    "tokens['non_viral'] = tokens.non_viral / nb.class_count_[0]\n",
    "tokens['viral'] = tokens.viral / nb.class_count_[1]\n",
    "tokens.sample(5, random_state=6)"
   ]
  },
  {
   "cell_type": "code",
   "execution_count": null,
   "metadata": {
    "collapsed": false
   },
   "outputs": [],
   "source": [
    "# calculate the ratio of viral-to-non-viral for each token\n",
    "tokens['viral_ratio'] = tokens.viral / tokens.non_viral\n",
    "tokens.sample(5, random_state=6)"
   ]
  },
  {
   "cell_type": "code",
   "execution_count": null,
   "metadata": {
    "collapsed": false
   },
   "outputs": [],
   "source": [
    "# examine the DataFrame sorted by viral_ratio\n",
    "# note: use sort() instead of sort_values() for pandas 0.16.2 and earlier\n",
    "tokens.sort_values('viral_ratio', ascending=False)"
   ]
  },
  {
   "cell_type": "code",
   "execution_count": null,
   "metadata": {
    "collapsed": false
   },
   "outputs": [],
   "source": [
    "# look up the viral_ratio for a given token\n",
    "tokens.loc['stanford', 'viral_ratio']"
   ]
  },
  {
   "cell_type": "code",
   "execution_count": null,
   "metadata": {
    "collapsed": true
   },
   "outputs": [],
   "source": []
  },
  {
   "cell_type": "code",
   "execution_count": null,
   "metadata": {
    "collapsed": true
   },
   "outputs": [],
   "source": []
  },
  {
   "cell_type": "code",
   "execution_count": null,
   "metadata": {
    "collapsed": true
   },
   "outputs": [],
   "source": []
  }
 ],
 "metadata": {
  "kernelspec": {
   "display_name": "Python 3",
   "language": "python",
   "name": "python3"
  },
  "language_info": {
   "codemirror_mode": {
    "name": "ipython",
    "version": 3
   },
   "file_extension": ".py",
   "mimetype": "text/x-python",
   "name": "python",
   "nbconvert_exporter": "python",
   "pygments_lexer": "ipython3",
   "version": "3.5.1"
  }
 },
 "nbformat": 4,
 "nbformat_minor": 0
}
